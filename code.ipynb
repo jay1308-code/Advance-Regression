{
 "cells": [
  {
   "cell_type": "markdown",
   "metadata": {},
   "source": [
    "### 1. Data Understanding and Exploration\n",
    "\n",
    "Let's first import the required libraries and have a look at the dataset and understand the size, attribute names etc."
   ]
  },
  {
   "cell_type": "code",
   "execution_count": 1,
   "metadata": {},
   "outputs": [],
   "source": [
    "import numpy as np\n",
    "import pandas as pd\n",
    "import matplotlib.pyplot as plt\n",
    "import seaborn as sns\n",
    "from sklearn import linear_model\n",
    "from sklearn.linear_model import LinearRegression\n",
    "import plotly.express as px"
   ]
  },
  {
   "cell_type": "code",
   "execution_count": 2,
   "metadata": {},
   "outputs": [],
   "source": [
    "# Reading The Data\n",
    "data = pd.read_csv(\"train (1).csv\")"
   ]
  },
  {
   "cell_type": "code",
   "execution_count": 3,
   "metadata": {},
   "outputs": [
    {
     "data": {
      "text/html": [
       "<div>\n",
       "<style scoped>\n",
       "    .dataframe tbody tr th:only-of-type {\n",
       "        vertical-align: middle;\n",
       "    }\n",
       "\n",
       "    .dataframe tbody tr th {\n",
       "        vertical-align: top;\n",
       "    }\n",
       "\n",
       "    .dataframe thead th {\n",
       "        text-align: right;\n",
       "    }\n",
       "</style>\n",
       "<table border=\"1\" class=\"dataframe\">\n",
       "  <thead>\n",
       "    <tr style=\"text-align: right;\">\n",
       "      <th></th>\n",
       "      <th>Id</th>\n",
       "      <th>MSSubClass</th>\n",
       "      <th>MSZoning</th>\n",
       "      <th>LotFrontage</th>\n",
       "      <th>LotArea</th>\n",
       "      <th>Street</th>\n",
       "      <th>Alley</th>\n",
       "      <th>LotShape</th>\n",
       "      <th>LandContour</th>\n",
       "      <th>Utilities</th>\n",
       "      <th>...</th>\n",
       "      <th>PoolArea</th>\n",
       "      <th>PoolQC</th>\n",
       "      <th>Fence</th>\n",
       "      <th>MiscFeature</th>\n",
       "      <th>MiscVal</th>\n",
       "      <th>MoSold</th>\n",
       "      <th>YrSold</th>\n",
       "      <th>SaleType</th>\n",
       "      <th>SaleCondition</th>\n",
       "      <th>SalePrice</th>\n",
       "    </tr>\n",
       "  </thead>\n",
       "  <tbody>\n",
       "    <tr>\n",
       "      <th>0</th>\n",
       "      <td>1</td>\n",
       "      <td>60</td>\n",
       "      <td>RL</td>\n",
       "      <td>65.0</td>\n",
       "      <td>8450</td>\n",
       "      <td>Pave</td>\n",
       "      <td>NaN</td>\n",
       "      <td>Reg</td>\n",
       "      <td>Lvl</td>\n",
       "      <td>AllPub</td>\n",
       "      <td>...</td>\n",
       "      <td>0</td>\n",
       "      <td>NaN</td>\n",
       "      <td>NaN</td>\n",
       "      <td>NaN</td>\n",
       "      <td>0</td>\n",
       "      <td>2</td>\n",
       "      <td>2008</td>\n",
       "      <td>WD</td>\n",
       "      <td>Normal</td>\n",
       "      <td>208500</td>\n",
       "    </tr>\n",
       "    <tr>\n",
       "      <th>1</th>\n",
       "      <td>2</td>\n",
       "      <td>20</td>\n",
       "      <td>RL</td>\n",
       "      <td>80.0</td>\n",
       "      <td>9600</td>\n",
       "      <td>Pave</td>\n",
       "      <td>NaN</td>\n",
       "      <td>Reg</td>\n",
       "      <td>Lvl</td>\n",
       "      <td>AllPub</td>\n",
       "      <td>...</td>\n",
       "      <td>0</td>\n",
       "      <td>NaN</td>\n",
       "      <td>NaN</td>\n",
       "      <td>NaN</td>\n",
       "      <td>0</td>\n",
       "      <td>5</td>\n",
       "      <td>2007</td>\n",
       "      <td>WD</td>\n",
       "      <td>Normal</td>\n",
       "      <td>181500</td>\n",
       "    </tr>\n",
       "    <tr>\n",
       "      <th>2</th>\n",
       "      <td>3</td>\n",
       "      <td>60</td>\n",
       "      <td>RL</td>\n",
       "      <td>68.0</td>\n",
       "      <td>11250</td>\n",
       "      <td>Pave</td>\n",
       "      <td>NaN</td>\n",
       "      <td>IR1</td>\n",
       "      <td>Lvl</td>\n",
       "      <td>AllPub</td>\n",
       "      <td>...</td>\n",
       "      <td>0</td>\n",
       "      <td>NaN</td>\n",
       "      <td>NaN</td>\n",
       "      <td>NaN</td>\n",
       "      <td>0</td>\n",
       "      <td>9</td>\n",
       "      <td>2008</td>\n",
       "      <td>WD</td>\n",
       "      <td>Normal</td>\n",
       "      <td>223500</td>\n",
       "    </tr>\n",
       "    <tr>\n",
       "      <th>3</th>\n",
       "      <td>4</td>\n",
       "      <td>70</td>\n",
       "      <td>RL</td>\n",
       "      <td>60.0</td>\n",
       "      <td>9550</td>\n",
       "      <td>Pave</td>\n",
       "      <td>NaN</td>\n",
       "      <td>IR1</td>\n",
       "      <td>Lvl</td>\n",
       "      <td>AllPub</td>\n",
       "      <td>...</td>\n",
       "      <td>0</td>\n",
       "      <td>NaN</td>\n",
       "      <td>NaN</td>\n",
       "      <td>NaN</td>\n",
       "      <td>0</td>\n",
       "      <td>2</td>\n",
       "      <td>2006</td>\n",
       "      <td>WD</td>\n",
       "      <td>Abnorml</td>\n",
       "      <td>140000</td>\n",
       "    </tr>\n",
       "    <tr>\n",
       "      <th>4</th>\n",
       "      <td>5</td>\n",
       "      <td>60</td>\n",
       "      <td>RL</td>\n",
       "      <td>84.0</td>\n",
       "      <td>14260</td>\n",
       "      <td>Pave</td>\n",
       "      <td>NaN</td>\n",
       "      <td>IR1</td>\n",
       "      <td>Lvl</td>\n",
       "      <td>AllPub</td>\n",
       "      <td>...</td>\n",
       "      <td>0</td>\n",
       "      <td>NaN</td>\n",
       "      <td>NaN</td>\n",
       "      <td>NaN</td>\n",
       "      <td>0</td>\n",
       "      <td>12</td>\n",
       "      <td>2008</td>\n",
       "      <td>WD</td>\n",
       "      <td>Normal</td>\n",
       "      <td>250000</td>\n",
       "    </tr>\n",
       "  </tbody>\n",
       "</table>\n",
       "<p>5 rows × 81 columns</p>\n",
       "</div>"
      ],
      "text/plain": [
       "   Id  MSSubClass MSZoning  LotFrontage  LotArea Street Alley LotShape  \\\n",
       "0   1          60       RL         65.0     8450   Pave   NaN      Reg   \n",
       "1   2          20       RL         80.0     9600   Pave   NaN      Reg   \n",
       "2   3          60       RL         68.0    11250   Pave   NaN      IR1   \n",
       "3   4          70       RL         60.0     9550   Pave   NaN      IR1   \n",
       "4   5          60       RL         84.0    14260   Pave   NaN      IR1   \n",
       "\n",
       "  LandContour Utilities  ... PoolArea PoolQC Fence MiscFeature MiscVal MoSold  \\\n",
       "0         Lvl    AllPub  ...        0    NaN   NaN         NaN       0      2   \n",
       "1         Lvl    AllPub  ...        0    NaN   NaN         NaN       0      5   \n",
       "2         Lvl    AllPub  ...        0    NaN   NaN         NaN       0      9   \n",
       "3         Lvl    AllPub  ...        0    NaN   NaN         NaN       0      2   \n",
       "4         Lvl    AllPub  ...        0    NaN   NaN         NaN       0     12   \n",
       "\n",
       "  YrSold  SaleType  SaleCondition  SalePrice  \n",
       "0   2008        WD         Normal     208500  \n",
       "1   2007        WD         Normal     181500  \n",
       "2   2008        WD         Normal     223500  \n",
       "3   2006        WD        Abnorml     140000  \n",
       "4   2008        WD         Normal     250000  \n",
       "\n",
       "[5 rows x 81 columns]"
      ]
     },
     "execution_count": 3,
     "metadata": {},
     "output_type": "execute_result"
    }
   ],
   "source": [
    "# Lets check first few rows in the dataset\n",
    "data.head()"
   ]
  },
  {
   "cell_type": "code",
   "execution_count": 4,
   "metadata": {},
   "outputs": [
    {
     "data": {
      "text/plain": [
       "Index(['Id', 'MSSubClass', 'MSZoning', 'LotFrontage', 'LotArea', 'Street',\n",
       "       'Alley', 'LotShape', 'LandContour', 'Utilities', 'LotConfig',\n",
       "       'LandSlope', 'Neighborhood', 'Condition1', 'Condition2', 'BldgType',\n",
       "       'HouseStyle', 'OverallQual', 'OverallCond', 'YearBuilt', 'YearRemodAdd',\n",
       "       'RoofStyle', 'RoofMatl', 'Exterior1st', 'Exterior2nd', 'MasVnrType',\n",
       "       'MasVnrArea', 'ExterQual', 'ExterCond', 'Foundation', 'BsmtQual',\n",
       "       'BsmtCond', 'BsmtExposure', 'BsmtFinType1', 'BsmtFinSF1',\n",
       "       'BsmtFinType2', 'BsmtFinSF2', 'BsmtUnfSF', 'TotalBsmtSF', 'Heating',\n",
       "       'HeatingQC', 'CentralAir', 'Electrical', '1stFlrSF', '2ndFlrSF',\n",
       "       'LowQualFinSF', 'GrLivArea', 'BsmtFullBath', 'BsmtHalfBath', 'FullBath',\n",
       "       'HalfBath', 'BedroomAbvGr', 'KitchenAbvGr', 'KitchenQual',\n",
       "       'TotRmsAbvGrd', 'Functional', 'Fireplaces', 'FireplaceQu', 'GarageType',\n",
       "       'GarageYrBlt', 'GarageFinish', 'GarageCars', 'GarageArea', 'GarageQual',\n",
       "       'GarageCond', 'PavedDrive', 'WoodDeckSF', 'OpenPorchSF',\n",
       "       'EnclosedPorch', '3SsnPorch', 'ScreenPorch', 'PoolArea', 'PoolQC',\n",
       "       'Fence', 'MiscFeature', 'MiscVal', 'MoSold', 'YrSold', 'SaleType',\n",
       "       'SaleCondition', 'SalePrice'],\n",
       "      dtype='object')"
      ]
     },
     "execution_count": 4,
     "metadata": {},
     "output_type": "execute_result"
    }
   ],
   "source": [
    "# understanding the columns name \n",
    "data.columns"
   ]
  },
  {
   "cell_type": "code",
   "execution_count": 5,
   "metadata": {},
   "outputs": [
    {
     "data": {
      "text/plain": [
       "(1460, 81)"
      ]
     },
     "execution_count": 5,
     "metadata": {},
     "output_type": "execute_result"
    }
   ],
   "source": [
    "# Checking the shape of the dataset\n",
    "data.shape"
   ]
  },
  {
   "cell_type": "code",
   "execution_count": 6,
   "metadata": {},
   "outputs": [
    {
     "name": "stdout",
     "output_type": "stream",
     "text": [
      "<class 'pandas.core.frame.DataFrame'>\n",
      "RangeIndex: 1460 entries, 0 to 1459\n",
      "Data columns (total 81 columns):\n",
      " #   Column         Non-Null Count  Dtype  \n",
      "---  ------         --------------  -----  \n",
      " 0   Id             1460 non-null   int64  \n",
      " 1   MSSubClass     1460 non-null   int64  \n",
      " 2   MSZoning       1460 non-null   object \n",
      " 3   LotFrontage    1201 non-null   float64\n",
      " 4   LotArea        1460 non-null   int64  \n",
      " 5   Street         1460 non-null   object \n",
      " 6   Alley          91 non-null     object \n",
      " 7   LotShape       1460 non-null   object \n",
      " 8   LandContour    1460 non-null   object \n",
      " 9   Utilities      1460 non-null   object \n",
      " 10  LotConfig      1460 non-null   object \n",
      " 11  LandSlope      1460 non-null   object \n",
      " 12  Neighborhood   1460 non-null   object \n",
      " 13  Condition1     1460 non-null   object \n",
      " 14  Condition2     1460 non-null   object \n",
      " 15  BldgType       1460 non-null   object \n",
      " 16  HouseStyle     1460 non-null   object \n",
      " 17  OverallQual    1460 non-null   int64  \n",
      " 18  OverallCond    1460 non-null   int64  \n",
      " 19  YearBuilt      1460 non-null   int64  \n",
      " 20  YearRemodAdd   1460 non-null   int64  \n",
      " 21  RoofStyle      1460 non-null   object \n",
      " 22  RoofMatl       1460 non-null   object \n",
      " 23  Exterior1st    1460 non-null   object \n",
      " 24  Exterior2nd    1460 non-null   object \n",
      " 25  MasVnrType     1452 non-null   object \n",
      " 26  MasVnrArea     1452 non-null   float64\n",
      " 27  ExterQual      1460 non-null   object \n",
      " 28  ExterCond      1460 non-null   object \n",
      " 29  Foundation     1460 non-null   object \n",
      " 30  BsmtQual       1423 non-null   object \n",
      " 31  BsmtCond       1423 non-null   object \n",
      " 32  BsmtExposure   1422 non-null   object \n",
      " 33  BsmtFinType1   1423 non-null   object \n",
      " 34  BsmtFinSF1     1460 non-null   int64  \n",
      " 35  BsmtFinType2   1422 non-null   object \n",
      " 36  BsmtFinSF2     1460 non-null   int64  \n",
      " 37  BsmtUnfSF      1460 non-null   int64  \n",
      " 38  TotalBsmtSF    1460 non-null   int64  \n",
      " 39  Heating        1460 non-null   object \n",
      " 40  HeatingQC      1460 non-null   object \n",
      " 41  CentralAir     1460 non-null   object \n",
      " 42  Electrical     1459 non-null   object \n",
      " 43  1stFlrSF       1460 non-null   int64  \n",
      " 44  2ndFlrSF       1460 non-null   int64  \n",
      " 45  LowQualFinSF   1460 non-null   int64  \n",
      " 46  GrLivArea      1460 non-null   int64  \n",
      " 47  BsmtFullBath   1460 non-null   int64  \n",
      " 48  BsmtHalfBath   1460 non-null   int64  \n",
      " 49  FullBath       1460 non-null   int64  \n",
      " 50  HalfBath       1460 non-null   int64  \n",
      " 51  BedroomAbvGr   1460 non-null   int64  \n",
      " 52  KitchenAbvGr   1460 non-null   int64  \n",
      " 53  KitchenQual    1460 non-null   object \n",
      " 54  TotRmsAbvGrd   1460 non-null   int64  \n",
      " 55  Functional     1460 non-null   object \n",
      " 56  Fireplaces     1460 non-null   int64  \n",
      " 57  FireplaceQu    770 non-null    object \n",
      " 58  GarageType     1379 non-null   object \n",
      " 59  GarageYrBlt    1379 non-null   float64\n",
      " 60  GarageFinish   1379 non-null   object \n",
      " 61  GarageCars     1460 non-null   int64  \n",
      " 62  GarageArea     1460 non-null   int64  \n",
      " 63  GarageQual     1379 non-null   object \n",
      " 64  GarageCond     1379 non-null   object \n",
      " 65  PavedDrive     1460 non-null   object \n",
      " 66  WoodDeckSF     1460 non-null   int64  \n",
      " 67  OpenPorchSF    1460 non-null   int64  \n",
      " 68  EnclosedPorch  1460 non-null   int64  \n",
      " 69  3SsnPorch      1460 non-null   int64  \n",
      " 70  ScreenPorch    1460 non-null   int64  \n",
      " 71  PoolArea       1460 non-null   int64  \n",
      " 72  PoolQC         7 non-null      object \n",
      " 73  Fence          281 non-null    object \n",
      " 74  MiscFeature    54 non-null     object \n",
      " 75  MiscVal        1460 non-null   int64  \n",
      " 76  MoSold         1460 non-null   int64  \n",
      " 77  YrSold         1460 non-null   int64  \n",
      " 78  SaleType       1460 non-null   object \n",
      " 79  SaleCondition  1460 non-null   object \n",
      " 80  SalePrice      1460 non-null   int64  \n",
      "dtypes: float64(3), int64(35), object(43)\n",
      "memory usage: 924.0+ KB\n"
     ]
    }
   ],
   "source": [
    "# Understanding the dataset\n",
    "data.info()\n",
    "# summary of the data it has rows=1460,columns=81 and some of the columns have missing values in the dataset"
   ]
  },
  {
   "cell_type": "markdown",
   "metadata": {},
   "source": [
    "Batch_1"
   ]
  },
  {
   "cell_type": "code",
   "execution_count": 7,
   "metadata": {},
   "outputs": [],
   "source": [
    "# # Visualizing in the numerical data where the numerical data had 38 columns so it is very time consuming process to plot all the columns along with target column so we plot the graphs in the batch of 10\n",
    "\n",
    "# columns_to_plot = ['SalePrice', 'MSSubClass', 'LotFrontage', 'LotArea', 'OverallQual',\n",
    "#                    'OverallCond', 'YearBuilt', 'YearRemodAdd', 'MasVnrArea', 'BsmtFinSF1']\n",
    "\n",
    "# # Selecting only the specified columns for the pair plot\n",
    "# selected_columns = data[columns_to_plot]\n",
    "\n",
    "# # Creating a pair plot\n",
    "# sns.pairplot(selected_columns)\n",
    "# plt.show()\n"
   ]
  },
  {
   "cell_type": "markdown",
   "metadata": {},
   "source": [
    "Batch_2"
   ]
  },
  {
   "cell_type": "code",
   "execution_count": 8,
   "metadata": {},
   "outputs": [],
   "source": [
    "# columns_to_plot = ['SalePrice','BsmtFinSF2', 'BsmtUnfSF', 'TotalBsmtSF', '1stFlrSF', '2ndFlrSF',\n",
    "#                      'LowQualFinSF', 'GrLivArea', 'BsmtFullBath', 'BsmtHalfBath' ]\n",
    "\n",
    "\n",
    "# # Selecting only the specified columns for the pair plot\n",
    "# selected_columns = data[columns_to_plot]\n",
    "\n",
    "# # Creating a pair plot\n",
    "# sns.pairplot(selected_columns)\n",
    "# plt.show()\n"
   ]
  },
  {
   "cell_type": "markdown",
   "metadata": {},
   "source": [
    "Batch_3"
   ]
  },
  {
   "cell_type": "code",
   "execution_count": 9,
   "metadata": {},
   "outputs": [],
   "source": [
    "# columns_to_plot = ['SalePrice','FullBath','HalfBath', 'BedroomAbvGr', 'KitchenAbvGr', \n",
    "#                 'TotRmsAbvGrd', 'Fireplaces', 'GarageYrBlt', 'GarageCars', 'GarageArea']\n",
    "\n",
    "\n",
    "# # Selecting only the specified columns for the pair plot\n",
    "# selected_columns = data[columns_to_plot]\n",
    "\n",
    "# # Creating a pair plot\n",
    "# sns.pairplot(selected_columns)\n",
    "# plt.show()\n"
   ]
  },
  {
   "cell_type": "markdown",
   "metadata": {},
   "source": [
    "Batch_4"
   ]
  },
  {
   "cell_type": "code",
   "execution_count": 10,
   "metadata": {},
   "outputs": [],
   "source": [
    "# columns_to_plot = ['SalePrice','WoodDeckSF', 'OpenPorchSF', 'EnclosedPorch', '3SsnPorch', 'ScreenPorch', \n",
    "#                 'PoolArea', 'MiscVal', 'MoSold', 'YrSold']\n",
    "\n",
    "\n",
    "# # Selecting only the specified columns for the pair plot\n",
    "# selected_columns = data[columns_to_plot]\n",
    "\n",
    "# # Creating a pair plot\n",
    "# sns.pairplot(selected_columns)\n",
    "# plt.show()\n"
   ]
  },
  {
   "cell_type": "markdown",
   "metadata": {},
   "source": [
    "*Understanding the relationship between categorical variables and target variables*"
   ]
  },
  {
   "cell_type": "code",
   "execution_count": 11,
   "metadata": {},
   "outputs": [],
   "source": [
    "# import matplotlib.pyplot as plt\n",
    "# import seaborn as sns\n",
    "# import pandas as pd\n",
    "\n",
    "# # Assuming your DataFrame is named df\n",
    "# # Replace data with your actual DataFrame\n",
    "\n",
    "# # List of categorical columns\n",
    "# categorical_columns = ['MSZoning', 'Street', 'Alley', 'LotShape', 'LandContour', 'Utilities',\n",
    "#        'LotConfig', 'LandSlope', 'Neighborhood', 'Condition1', 'Condition2',\n",
    "#        'BldgType', 'HouseStyle', 'RoofStyle', 'RoofMatl', 'Exterior1st',\n",
    "#        'Exterior2nd', 'MasVnrType', 'ExterQual', 'ExterCond', 'Foundation',\n",
    "#        'BsmtQual', 'BsmtCond', 'BsmtExposure', 'BsmtFinType1', 'BsmtFinType2',\n",
    "#        'Heating', 'HeatingQC', 'CentralAir', 'Electrical', 'KitchenQual',\n",
    "#        'Functional', 'FireplaceQu', 'GarageType', 'GarageFinish', 'GarageQual',\n",
    "#        'GarageCond', 'PavedDrive', 'PoolQC', 'Fence', 'MiscFeature',\n",
    "#        'SaleType', 'SaleCondition']\n",
    "\n",
    "# # Create subplots\n",
    "# fig, axes = plt.subplots(nrows=11, ncols=4, figsize=(20, 40))\n",
    "# fig.subplots_adjust(hspace=0.5)\n",
    "\n",
    "# # Loop through each categorical column and create box plots\n",
    "# for i, column in enumerate(categorical_columns):\n",
    "#     row = i // 4\n",
    "#     col = i % 4\n",
    "    \n",
    "#     # Create box plot using seaborn\n",
    "#     sns.boxplot(x=column, y='SalePrice', data=data, ax=axes[row, col])\n",
    "#     axes[row, col].set_title(f'{column} vs SalePrice')\n",
    "#     axes[row, col].set_xticklabels(axes[row, col].get_xticklabels(), rotation=45, ha='right')\n",
    "\n",
    "# # Adjust layout\n",
    "# plt.tight_layout()\n",
    "# plt.show()\n"
   ]
  },
  {
   "cell_type": "markdown",
   "metadata": {},
   "source": [
    "# Finding The Missing Values In The Dataframe"
   ]
  },
  {
   "cell_type": "markdown",
   "metadata": {},
   "source": [
    "*Missing Values in numeric dataframe*"
   ]
  },
  {
   "cell_type": "code",
   "execution_count": 12,
   "metadata": {},
   "outputs": [
    {
     "name": "stdout",
     "output_type": "stream",
     "text": [
      "             Missing Count  Missing Percentage\n",
      "PoolQC                1453           99.520548\n",
      "MiscFeature           1406           96.301370\n",
      "Alley                 1369           93.767123\n",
      "Fence                 1179           80.753425\n",
      "FireplaceQu            690           47.260274\n",
      "...                    ...                 ...\n",
      "ExterQual                0            0.000000\n",
      "Exterior2nd              0            0.000000\n",
      "Exterior1st              0            0.000000\n",
      "RoofMatl                 0            0.000000\n",
      "SalePrice                0            0.000000\n",
      "\n",
      "[81 rows x 2 columns]\n"
     ]
    }
   ],
   "source": [
    "import pandas as pd\n",
    "\n",
    "# Assuming 'data' is your numerical dataset\n",
    "\n",
    "# Count the missing values\n",
    "missing_count = data.isnull().sum()\n",
    "\n",
    "# Calculate the percentage of missing values\n",
    "missing_percentage = (missing_count / len(data)) * 100\n",
    "\n",
    "# Create a DataFrame to display both count and percentage\n",
    "missing_info = pd.DataFrame({'Missing Count': missing_count, 'Missing Percentage': missing_percentage})\n",
    "\n",
    "# Sort values by the missing count\n",
    "missing_info = missing_info.sort_values(by='Missing Count', ascending=False)\n",
    "\n",
    "# Display the result\n",
    "print(missing_info)\n"
   ]
  },
  {
   "cell_type": "code",
   "execution_count": 13,
   "metadata": {},
   "outputs": [
    {
     "data": {
      "application/vnd.plotly.v1+json": {
       "config": {
        "plotlyServerURL": "https://plot.ly"
       },
       "data": [
        {
         "alignmentgroup": "True",
         "hovertemplate": "LotFrontage=%{y}<extra></extra>",
         "legendgroup": "",
         "marker": {
          "color": "#636efa"
         },
         "name": "",
         "notched": false,
         "offsetgroup": "",
         "orientation": "v",
         "showlegend": false,
         "type": "box",
         "x0": " ",
         "xaxis": "x",
         "y": [
          65,
          80,
          68,
          60,
          84,
          85,
          75,
          null,
          51,
          50,
          70,
          85,
          null,
          91,
          null,
          51,
          null,
          72,
          66,
          70,
          101,
          57,
          75,
          44,
          null,
          110,
          60,
          98,
          47,
          60,
          50,
          null,
          85,
          70,
          60,
          108,
          112,
          74,
          68,
          65,
          84,
          115,
          null,
          null,
          70,
          61,
          48,
          84,
          33,
          66,
          null,
          52,
          110,
          68,
          60,
          100,
          24,
          89,
          66,
          60,
          63,
          60,
          44,
          50,
          null,
          76,
          null,
          72,
          47,
          81,
          95,
          69,
          74,
          85,
          60,
          21,
          null,
          50,
          72,
          60,
          100,
          32,
          78,
          80,
          null,
          121,
          122,
          40,
          105,
          60,
          60,
          85,
          80,
          60,
          69,
          null,
          78,
          73,
          85,
          77,
          null,
          77,
          64,
          94,
          null,
          75,
          60,
          50,
          85,
          105,
          75,
          null,
          77,
          null,
          61,
          34,
          null,
          74,
          90,
          65,
          null,
          50,
          75,
          55,
          48,
          60,
          null,
          55,
          69,
          69,
          88,
          null,
          75,
          null,
          78,
          80,
          null,
          82,
          73,
          65,
          70,
          78,
          71,
          78,
          70,
          24,
          51,
          null,
          63,
          null,
          120,
          107,
          null,
          null,
          84,
          60,
          60,
          92,
          100,
          134,
          null,
          110,
          95,
          55,
          40,
          62,
          null,
          86,
          62,
          null,
          null,
          141,
          44,
          80,
          47,
          84,
          97,
          null,
          63,
          60,
          null,
          54,
          60,
          63,
          92,
          90,
          null,
          60,
          64,
          41,
          70,
          null,
          68,
          24,
          60,
          24,
          79,
          174,
          92,
          76,
          80,
          75,
          50,
          null,
          50,
          99,
          40,
          null,
          null,
          75,
          67,
          83,
          72,
          43,
          null,
          72,
          65,
          57,
          null,
          43,
          73,
          null,
          85,
          70,
          103,
          21,
          82,
          21,
          70,
          43,
          73,
          174,
          21,
          75,
          null,
          21,
          65,
          null,
          93,
          52,
          75,
          40,
          63,
          75,
          null,
          80,
          69,
          75,
          72,
          null,
          55,
          44,
          65,
          85,
          70,
          66,
          64,
          68,
          80,
          70,
          120,
          69,
          88,
          50,
          30,
          78,
          70,
          60,
          71,
          null,
          84,
          73,
          92,
          80,
          76,
          55,
          129,
          140,
          107,
          83,
          82,
          60,
          34,
          74,
          50,
          35,
          77,
          null,
          null,
          60,
          120,
          55,
          60,
          null,
          80,
          37,
          75,
          66,
          90,
          80,
          90,
          66,
          118,
          70,
          87,
          80,
          116,
          null,
          null,
          90,
          null,
          50,
          65,
          150,
          60,
          71,
          94,
          75,
          90,
          null,
          111,
          99,
          86,
          49,
          96,
          50,
          32,
          80,
          null,
          60,
          null,
          70,
          85,
          59,
          59,
          null,
          86,
          70,
          91,
          66,
          85,
          60,
          null,
          63,
          36,
          65,
          null,
          null,
          36,
          56,
          68,
          null,
          60,
          60,
          60,
          105,
          null,
          44,
          92,
          78,
          null,
          null,
          64,
          21,
          null,
          59,
          null,
          101,
          78,
          null,
          null,
          80,
          50,
          79,
          65,
          null,
          57,
          102,
          88,
          60,
          50,
          60,
          79,
          60,
          null,
          43,
          58,
          72,
          93,
          96,
          50,
          71,
          null,
          null,
          60,
          68,
          60,
          69,
          60,
          65,
          38,
          65,
          60,
          93,
          null,
          null,
          51,
          63,
          109,
          85,
          68,
          100,
          null,
          56,
          59,
          73,
          74,
          86,
          60,
          65,
          78,
          null,
          100,
          80,
          72,
          60,
          null,
          77,
          64,
          130,
          21,
          60,
          24,
          100,
          21,
          43,
          40,
          50,
          40,
          67,
          105,
          92,
          52,
          53,
          70,
          73,
          137,
          null,
          50,
          50,
          70,
          62,
          null,
          75,
          63,
          80,
          34,
          null,
          null,
          null,
          75,
          60,
          60,
          74,
          60,
          null,
          85,
          79,
          98,
          76,
          null,
          92,
          35,
          110,
          41,
          80,
          75,
          105,
          79,
          50,
          98,
          72,
          50,
          32,
          null,
          80,
          79,
          70,
          60,
          21,
          null,
          79,
          105,
          70,
          50,
          60,
          null,
          60,
          65,
          70,
          21,
          75,
          70,
          100,
          24,
          60,
          80,
          75,
          60,
          80,
          75,
          40,
          70,
          71,
          55,
          94,
          null,
          79,
          null,
          53,
          60,
          90,
          50,
          130,
          95,
          62,
          70,
          67,
          58,
          null,
          85,
          60,
          60,
          50,
          74,
          70,
          57,
          null,
          null,
          null,
          85,
          null,
          78,
          34,
          58,
          null,
          70,
          54,
          49,
          75,
          53,
          50,
          87,
          67,
          85,
          58,
          69,
          60,
          57,
          null,
          null,
          77,
          63,
          66,
          null,
          66,
          77,
          70,
          79,
          null,
          74,
          60,
          83,
          76,
          70,
          80,
          52,
          96,
          34,
          81,
          null,
          98,
          81,
          75,
          51,
          88,
          55,
          74,
          65,
          50,
          64,
          97,
          60,
          null,
          88,
          69,
          60,
          53,
          80,
          24,
          74,
          50,
          80,
          30,
          88,
          85,
          82,
          78,
          78,
          61,
          null,
          null,
          null,
          70,
          21,
          80,
          null,
          59,
          90,
          85,
          45,
          90,
          71,
          null,
          80,
          87,
          null,
          80,
          70,
          82,
          50,
          34,
          85,
          80,
          64,
          60,
          51,
          50,
          67,
          53,
          62,
          null,
          75,
          80,
          85,
          null,
          60,
          85,
          70,
          21,
          65,
          60,
          70,
          60,
          91,
          21,
          72,
          60,
          78,
          75,
          null,
          52,
          120,
          90,
          49,
          106,
          null,
          65,
          null,
          80,
          64,
          54,
          null,
          110,
          80,
          24,
          60,
          52,
          80,
          null,
          50,
          55,
          null,
          90,
          58,
          null,
          84,
          null,
          60,
          61,
          null,
          104,
          42,
          60,
          51,
          54,
          50,
          57,
          65,
          59,
          85,
          80,
          82,
          76,
          70,
          70,
          null,
          48,
          65,
          null,
          56,
          66,
          40,
          60,
          null,
          78,
          60,
          80,
          96,
          69,
          null,
          null,
          70,
          60,
          86,
          60,
          null,
          64,
          85,
          52,
          39,
          73,
          75,
          80,
          null,
          60,
          60,
          72,
          60,
          65,
          60,
          65,
          65,
          70,
          41,
          null,
          null,
          65,
          59,
          50,
          55,
          null,
          79,
          80,
          61,
          34,
          68,
          null,
          24,
          65,
          70,
          60,
          72,
          82,
          30,
          75,
          80,
          75,
          70,
          47,
          null,
          67,
          94,
          70,
          110,
          32,
          86,
          100,
          60,
          78,
          63,
          65,
          67,
          null,
          35,
          null,
          60,
          76,
          50,
          null,
          43,
          null,
          92,
          76,
          null,
          70,
          71,
          57,
          104,
          60,
          79,
          40,
          63,
          107,
          75,
          91,
          75,
          144,
          85,
          90,
          78,
          null,
          66,
          75,
          45,
          48,
          null,
          null,
          80,
          44,
          72,
          60,
          null,
          60,
          81,
          114,
          50,
          65,
          null,
          24,
          80,
          30,
          44,
          100,
          75,
          60,
          90,
          21,
          75,
          70,
          null,
          60,
          82,
          80,
          100,
          null,
          75,
          36,
          75,
          80,
          36,
          null,
          53,
          null,
          102,
          null,
          null,
          65,
          80,
          null,
          55,
          75,
          81,
          70,
          72,
          null,
          67,
          85,
          null,
          80,
          60,
          70,
          74,
          60,
          52,
          75,
          94,
          74,
          88,
          null,
          60,
          44,
          null,
          60,
          65,
          50,
          70,
          59,
          95,
          128,
          60,
          70,
          70,
          null,
          64,
          71,
          50,
          64,
          100,
          65,
          null,
          64,
          63,
          50,
          null,
          80,
          116,
          86,
          null,
          149,
          80,
          null,
          51,
          82,
          30,
          21,
          50,
          null,
          103,
          87,
          70,
          67,
          65,
          50,
          79,
          null,
          93,
          null,
          null,
          null,
          73,
          70,
          84,
          63,
          313,
          52,
          67,
          75,
          73,
          null,
          55,
          null,
          42,
          100,
          null,
          98,
          70,
          85,
          65,
          78,
          60,
          60,
          60,
          null,
          35,
          82,
          24,
          70,
          65,
          24,
          50,
          null,
          24,
          122,
          80,
          65,
          130,
          null,
          50,
          75,
          60,
          36,
          55,
          95,
          60,
          null,
          51,
          35,
          68,
          80,
          null,
          98,
          43,
          null,
          75,
          68,
          59,
          83,
          null,
          65,
          82,
          121,
          80,
          68,
          96,
          51,
          null,
          null,
          60,
          64,
          74,
          60,
          75,
          null,
          43,
          65,
          null,
          21,
          43,
          60,
          115,
          75,
          55,
          60,
          60,
          70,
          73,
          null,
          null,
          43,
          60,
          64,
          52,
          43,
          null,
          70,
          73,
          71,
          79,
          21,
          null,
          102,
          null,
          null,
          50,
          null,
          89,
          null,
          21,
          21,
          88,
          null,
          34,
          86,
          80,
          null,
          85,
          57,
          100,
          60,
          73,
          103,
          100,
          68,
          90,
          104,
          43,
          null,
          96,
          null,
          41,
          120,
          85,
          50,
          null,
          80,
          59,
          80,
          42,
          60,
          72,
          78,
          50,
          75,
          74,
          75,
          60,
          null,
          37,
          65,
          80,
          75,
          70,
          80,
          null,
          73,
          null,
          85,
          24,
          37,
          60,
          24,
          60,
          71,
          74,
          78,
          60,
          null,
          50,
          82,
          60,
          61,
          70,
          79,
          24,
          98,
          114,
          168,
          null,
          107,
          null,
          80,
          73,
          66,
          90,
          93,
          null,
          57,
          85,
          70,
          59,
          84,
          null,
          50,
          null,
          60,
          53,
          182,
          59,
          60,
          65,
          63,
          90,
          80,
          57,
          60,
          80,
          54,
          null,
          98,
          60,
          null,
          77,
          null,
          60,
          52,
          null,
          75,
          null,
          50,
          57,
          134,
          90,
          null,
          null,
          90,
          85,
          34,
          92,
          76,
          24,
          null,
          109,
          60,
          null,
          79,
          64,
          58,
          120,
          118,
          76,
          76,
          35,
          138,
          80,
          85,
          37,
          null,
          54,
          77,
          null,
          64,
          160,
          60,
          50,
          60,
          107,
          89,
          68,
          60,
          null,
          24,
          60,
          null,
          80,
          51,
          58,
          65,
          70,
          75,
          71,
          80,
          50,
          75,
          78,
          90,
          null,
          70,
          70,
          85,
          70,
          152,
          50,
          null,
          69,
          99,
          68,
          72,
          52,
          21,
          66,
          55,
          78,
          89,
          60,
          65,
          86,
          72,
          65,
          70,
          null,
          70,
          70,
          null,
          55,
          96,
          36,
          41,
          63,
          64,
          65,
          83,
          85,
          107,
          null,
          78,
          65,
          null,
          60,
          60,
          93,
          null,
          62,
          null,
          60,
          52,
          91,
          56,
          59,
          65,
          null,
          80,
          null,
          60,
          34,
          35,
          60,
          89,
          null,
          78,
          null,
          null,
          null,
          124,
          53,
          95,
          null,
          null,
          75,
          60,
          67,
          50,
          61,
          94,
          50,
          50,
          null,
          null,
          40,
          86,
          null,
          21,
          60,
          78,
          60,
          70,
          80,
          35,
          313,
          75,
          null,
          null,
          92,
          73,
          32,
          108,
          48,
          60,
          100,
          null,
          100,
          68,
          null,
          108,
          60,
          85,
          61,
          47,
          null,
          75,
          70,
          null,
          107,
          50,
          75,
          40,
          70,
          60,
          60,
          63,
          85,
          55,
          67,
          60,
          24,
          80,
          87,
          153,
          95,
          120,
          70,
          66,
          null,
          57,
          85,
          50,
          null,
          93,
          null,
          50,
          91,
          70,
          50,
          56,
          null,
          102,
          null,
          null,
          null,
          129,
          51,
          124,
          null,
          73,
          30,
          null,
          68,
          41,
          null,
          48,
          90,
          80,
          75,
          null,
          85,
          89,
          52,
          60,
          21,
          73,
          45,
          null,
          60,
          null,
          60,
          40,
          80,
          60,
          42,
          60,
          70,
          65,
          68,
          60,
          53,
          88,
          null,
          51,
          60,
          51,
          50,
          62,
          64,
          49,
          60,
          44,
          70,
          null,
          60,
          46,
          79,
          80,
          60,
          88,
          64,
          51,
          60,
          null,
          71,
          null,
          90,
          53,
          37,
          null,
          null,
          80,
          81,
          60,
          60,
          null,
          60,
          null,
          60,
          93,
          80,
          80,
          60,
          96,
          90,
          80,
          79,
          null,
          85,
          null,
          63,
          70,
          null,
          80,
          70,
          21,
          60,
          78,
          35,
          90,
          62,
          62,
          85,
          66,
          68,
          75
         ],
         "y0": " ",
         "yaxis": "y"
        }
       ],
       "layout": {
        "boxmode": "group",
        "legend": {
         "tracegroupgap": 0
        },
        "template": {
         "data": {
          "bar": [
           {
            "error_x": {
             "color": "#2a3f5f"
            },
            "error_y": {
             "color": "#2a3f5f"
            },
            "marker": {
             "line": {
              "color": "#E5ECF6",
              "width": 0.5
             },
             "pattern": {
              "fillmode": "overlay",
              "size": 10,
              "solidity": 0.2
             }
            },
            "type": "bar"
           }
          ],
          "barpolar": [
           {
            "marker": {
             "line": {
              "color": "#E5ECF6",
              "width": 0.5
             },
             "pattern": {
              "fillmode": "overlay",
              "size": 10,
              "solidity": 0.2
             }
            },
            "type": "barpolar"
           }
          ],
          "carpet": [
           {
            "aaxis": {
             "endlinecolor": "#2a3f5f",
             "gridcolor": "white",
             "linecolor": "white",
             "minorgridcolor": "white",
             "startlinecolor": "#2a3f5f"
            },
            "baxis": {
             "endlinecolor": "#2a3f5f",
             "gridcolor": "white",
             "linecolor": "white",
             "minorgridcolor": "white",
             "startlinecolor": "#2a3f5f"
            },
            "type": "carpet"
           }
          ],
          "choropleth": [
           {
            "colorbar": {
             "outlinewidth": 0,
             "ticks": ""
            },
            "type": "choropleth"
           }
          ],
          "contour": [
           {
            "colorbar": {
             "outlinewidth": 0,
             "ticks": ""
            },
            "colorscale": [
             [
              0,
              "#0d0887"
             ],
             [
              0.1111111111111111,
              "#46039f"
             ],
             [
              0.2222222222222222,
              "#7201a8"
             ],
             [
              0.3333333333333333,
              "#9c179e"
             ],
             [
              0.4444444444444444,
              "#bd3786"
             ],
             [
              0.5555555555555556,
              "#d8576b"
             ],
             [
              0.6666666666666666,
              "#ed7953"
             ],
             [
              0.7777777777777778,
              "#fb9f3a"
             ],
             [
              0.8888888888888888,
              "#fdca26"
             ],
             [
              1,
              "#f0f921"
             ]
            ],
            "type": "contour"
           }
          ],
          "contourcarpet": [
           {
            "colorbar": {
             "outlinewidth": 0,
             "ticks": ""
            },
            "type": "contourcarpet"
           }
          ],
          "heatmap": [
           {
            "colorbar": {
             "outlinewidth": 0,
             "ticks": ""
            },
            "colorscale": [
             [
              0,
              "#0d0887"
             ],
             [
              0.1111111111111111,
              "#46039f"
             ],
             [
              0.2222222222222222,
              "#7201a8"
             ],
             [
              0.3333333333333333,
              "#9c179e"
             ],
             [
              0.4444444444444444,
              "#bd3786"
             ],
             [
              0.5555555555555556,
              "#d8576b"
             ],
             [
              0.6666666666666666,
              "#ed7953"
             ],
             [
              0.7777777777777778,
              "#fb9f3a"
             ],
             [
              0.8888888888888888,
              "#fdca26"
             ],
             [
              1,
              "#f0f921"
             ]
            ],
            "type": "heatmap"
           }
          ],
          "heatmapgl": [
           {
            "colorbar": {
             "outlinewidth": 0,
             "ticks": ""
            },
            "colorscale": [
             [
              0,
              "#0d0887"
             ],
             [
              0.1111111111111111,
              "#46039f"
             ],
             [
              0.2222222222222222,
              "#7201a8"
             ],
             [
              0.3333333333333333,
              "#9c179e"
             ],
             [
              0.4444444444444444,
              "#bd3786"
             ],
             [
              0.5555555555555556,
              "#d8576b"
             ],
             [
              0.6666666666666666,
              "#ed7953"
             ],
             [
              0.7777777777777778,
              "#fb9f3a"
             ],
             [
              0.8888888888888888,
              "#fdca26"
             ],
             [
              1,
              "#f0f921"
             ]
            ],
            "type": "heatmapgl"
           }
          ],
          "histogram": [
           {
            "marker": {
             "pattern": {
              "fillmode": "overlay",
              "size": 10,
              "solidity": 0.2
             }
            },
            "type": "histogram"
           }
          ],
          "histogram2d": [
           {
            "colorbar": {
             "outlinewidth": 0,
             "ticks": ""
            },
            "colorscale": [
             [
              0,
              "#0d0887"
             ],
             [
              0.1111111111111111,
              "#46039f"
             ],
             [
              0.2222222222222222,
              "#7201a8"
             ],
             [
              0.3333333333333333,
              "#9c179e"
             ],
             [
              0.4444444444444444,
              "#bd3786"
             ],
             [
              0.5555555555555556,
              "#d8576b"
             ],
             [
              0.6666666666666666,
              "#ed7953"
             ],
             [
              0.7777777777777778,
              "#fb9f3a"
             ],
             [
              0.8888888888888888,
              "#fdca26"
             ],
             [
              1,
              "#f0f921"
             ]
            ],
            "type": "histogram2d"
           }
          ],
          "histogram2dcontour": [
           {
            "colorbar": {
             "outlinewidth": 0,
             "ticks": ""
            },
            "colorscale": [
             [
              0,
              "#0d0887"
             ],
             [
              0.1111111111111111,
              "#46039f"
             ],
             [
              0.2222222222222222,
              "#7201a8"
             ],
             [
              0.3333333333333333,
              "#9c179e"
             ],
             [
              0.4444444444444444,
              "#bd3786"
             ],
             [
              0.5555555555555556,
              "#d8576b"
             ],
             [
              0.6666666666666666,
              "#ed7953"
             ],
             [
              0.7777777777777778,
              "#fb9f3a"
             ],
             [
              0.8888888888888888,
              "#fdca26"
             ],
             [
              1,
              "#f0f921"
             ]
            ],
            "type": "histogram2dcontour"
           }
          ],
          "mesh3d": [
           {
            "colorbar": {
             "outlinewidth": 0,
             "ticks": ""
            },
            "type": "mesh3d"
           }
          ],
          "parcoords": [
           {
            "line": {
             "colorbar": {
              "outlinewidth": 0,
              "ticks": ""
             }
            },
            "type": "parcoords"
           }
          ],
          "pie": [
           {
            "automargin": true,
            "type": "pie"
           }
          ],
          "scatter": [
           {
            "fillpattern": {
             "fillmode": "overlay",
             "size": 10,
             "solidity": 0.2
            },
            "type": "scatter"
           }
          ],
          "scatter3d": [
           {
            "line": {
             "colorbar": {
              "outlinewidth": 0,
              "ticks": ""
             }
            },
            "marker": {
             "colorbar": {
              "outlinewidth": 0,
              "ticks": ""
             }
            },
            "type": "scatter3d"
           }
          ],
          "scattercarpet": [
           {
            "marker": {
             "colorbar": {
              "outlinewidth": 0,
              "ticks": ""
             }
            },
            "type": "scattercarpet"
           }
          ],
          "scattergeo": [
           {
            "marker": {
             "colorbar": {
              "outlinewidth": 0,
              "ticks": ""
             }
            },
            "type": "scattergeo"
           }
          ],
          "scattergl": [
           {
            "marker": {
             "colorbar": {
              "outlinewidth": 0,
              "ticks": ""
             }
            },
            "type": "scattergl"
           }
          ],
          "scattermapbox": [
           {
            "marker": {
             "colorbar": {
              "outlinewidth": 0,
              "ticks": ""
             }
            },
            "type": "scattermapbox"
           }
          ],
          "scatterpolar": [
           {
            "marker": {
             "colorbar": {
              "outlinewidth": 0,
              "ticks": ""
             }
            },
            "type": "scatterpolar"
           }
          ],
          "scatterpolargl": [
           {
            "marker": {
             "colorbar": {
              "outlinewidth": 0,
              "ticks": ""
             }
            },
            "type": "scatterpolargl"
           }
          ],
          "scatterternary": [
           {
            "marker": {
             "colorbar": {
              "outlinewidth": 0,
              "ticks": ""
             }
            },
            "type": "scatterternary"
           }
          ],
          "surface": [
           {
            "colorbar": {
             "outlinewidth": 0,
             "ticks": ""
            },
            "colorscale": [
             [
              0,
              "#0d0887"
             ],
             [
              0.1111111111111111,
              "#46039f"
             ],
             [
              0.2222222222222222,
              "#7201a8"
             ],
             [
              0.3333333333333333,
              "#9c179e"
             ],
             [
              0.4444444444444444,
              "#bd3786"
             ],
             [
              0.5555555555555556,
              "#d8576b"
             ],
             [
              0.6666666666666666,
              "#ed7953"
             ],
             [
              0.7777777777777778,
              "#fb9f3a"
             ],
             [
              0.8888888888888888,
              "#fdca26"
             ],
             [
              1,
              "#f0f921"
             ]
            ],
            "type": "surface"
           }
          ],
          "table": [
           {
            "cells": {
             "fill": {
              "color": "#EBF0F8"
             },
             "line": {
              "color": "white"
             }
            },
            "header": {
             "fill": {
              "color": "#C8D4E3"
             },
             "line": {
              "color": "white"
             }
            },
            "type": "table"
           }
          ]
         },
         "layout": {
          "annotationdefaults": {
           "arrowcolor": "#2a3f5f",
           "arrowhead": 0,
           "arrowwidth": 1
          },
          "autotypenumbers": "strict",
          "coloraxis": {
           "colorbar": {
            "outlinewidth": 0,
            "ticks": ""
           }
          },
          "colorscale": {
           "diverging": [
            [
             0,
             "#8e0152"
            ],
            [
             0.1,
             "#c51b7d"
            ],
            [
             0.2,
             "#de77ae"
            ],
            [
             0.3,
             "#f1b6da"
            ],
            [
             0.4,
             "#fde0ef"
            ],
            [
             0.5,
             "#f7f7f7"
            ],
            [
             0.6,
             "#e6f5d0"
            ],
            [
             0.7,
             "#b8e186"
            ],
            [
             0.8,
             "#7fbc41"
            ],
            [
             0.9,
             "#4d9221"
            ],
            [
             1,
             "#276419"
            ]
           ],
           "sequential": [
            [
             0,
             "#0d0887"
            ],
            [
             0.1111111111111111,
             "#46039f"
            ],
            [
             0.2222222222222222,
             "#7201a8"
            ],
            [
             0.3333333333333333,
             "#9c179e"
            ],
            [
             0.4444444444444444,
             "#bd3786"
            ],
            [
             0.5555555555555556,
             "#d8576b"
            ],
            [
             0.6666666666666666,
             "#ed7953"
            ],
            [
             0.7777777777777778,
             "#fb9f3a"
            ],
            [
             0.8888888888888888,
             "#fdca26"
            ],
            [
             1,
             "#f0f921"
            ]
           ],
           "sequentialminus": [
            [
             0,
             "#0d0887"
            ],
            [
             0.1111111111111111,
             "#46039f"
            ],
            [
             0.2222222222222222,
             "#7201a8"
            ],
            [
             0.3333333333333333,
             "#9c179e"
            ],
            [
             0.4444444444444444,
             "#bd3786"
            ],
            [
             0.5555555555555556,
             "#d8576b"
            ],
            [
             0.6666666666666666,
             "#ed7953"
            ],
            [
             0.7777777777777778,
             "#fb9f3a"
            ],
            [
             0.8888888888888888,
             "#fdca26"
            ],
            [
             1,
             "#f0f921"
            ]
           ]
          },
          "colorway": [
           "#636efa",
           "#EF553B",
           "#00cc96",
           "#ab63fa",
           "#FFA15A",
           "#19d3f3",
           "#FF6692",
           "#B6E880",
           "#FF97FF",
           "#FECB52"
          ],
          "font": {
           "color": "#2a3f5f"
          },
          "geo": {
           "bgcolor": "white",
           "lakecolor": "white",
           "landcolor": "#E5ECF6",
           "showlakes": true,
           "showland": true,
           "subunitcolor": "white"
          },
          "hoverlabel": {
           "align": "left"
          },
          "hovermode": "closest",
          "mapbox": {
           "style": "light"
          },
          "paper_bgcolor": "white",
          "plot_bgcolor": "#E5ECF6",
          "polar": {
           "angularaxis": {
            "gridcolor": "white",
            "linecolor": "white",
            "ticks": ""
           },
           "bgcolor": "#E5ECF6",
           "radialaxis": {
            "gridcolor": "white",
            "linecolor": "white",
            "ticks": ""
           }
          },
          "scene": {
           "xaxis": {
            "backgroundcolor": "#E5ECF6",
            "gridcolor": "white",
            "gridwidth": 2,
            "linecolor": "white",
            "showbackground": true,
            "ticks": "",
            "zerolinecolor": "white"
           },
           "yaxis": {
            "backgroundcolor": "#E5ECF6",
            "gridcolor": "white",
            "gridwidth": 2,
            "linecolor": "white",
            "showbackground": true,
            "ticks": "",
            "zerolinecolor": "white"
           },
           "zaxis": {
            "backgroundcolor": "#E5ECF6",
            "gridcolor": "white",
            "gridwidth": 2,
            "linecolor": "white",
            "showbackground": true,
            "ticks": "",
            "zerolinecolor": "white"
           }
          },
          "shapedefaults": {
           "line": {
            "color": "#2a3f5f"
           }
          },
          "ternary": {
           "aaxis": {
            "gridcolor": "white",
            "linecolor": "white",
            "ticks": ""
           },
           "baxis": {
            "gridcolor": "white",
            "linecolor": "white",
            "ticks": ""
           },
           "bgcolor": "#E5ECF6",
           "caxis": {
            "gridcolor": "white",
            "linecolor": "white",
            "ticks": ""
           }
          },
          "title": {
           "x": 0.05
          },
          "xaxis": {
           "automargin": true,
           "gridcolor": "white",
           "linecolor": "white",
           "ticks": "",
           "title": {
            "standoff": 15
           },
           "zerolinecolor": "white",
           "zerolinewidth": 2
          },
          "yaxis": {
           "automargin": true,
           "gridcolor": "white",
           "linecolor": "white",
           "ticks": "",
           "title": {
            "standoff": 15
           },
           "zerolinecolor": "white",
           "zerolinewidth": 2
          }
         }
        },
        "title": {
         "text": "Box Plot for LotFrontage"
        },
        "xaxis": {
         "anchor": "y",
         "domain": [
          0,
          1
         ]
        },
        "yaxis": {
         "anchor": "x",
         "domain": [
          0,
          1
         ],
         "title": {
          "text": "LotFrontage"
         }
        }
       }
      }
     },
     "metadata": {},
     "output_type": "display_data"
    }
   ],
   "source": [
    "fig = px.box(data, y='LotFrontage', title='Box Plot for LotFrontage')\n",
    "fig.show()"
   ]
  },
  {
   "cell_type": "code",
   "execution_count": 14,
   "metadata": {},
   "outputs": [],
   "source": [
    "# from the above plot the many points are above the avg points where ploted in this case if i will use the mean value fro data imputation so it will didnot justyfy so insted of using the mean i will use the median"
   ]
  },
  {
   "cell_type": "code",
   "execution_count": 15,
   "metadata": {},
   "outputs": [],
   "source": [
    "data[\"LotFrontage\"] = data[\"LotFrontage\"].fillna(value=data[\"LotFrontage\"].median())"
   ]
  },
  {
   "cell_type": "code",
   "execution_count": 16,
   "metadata": {},
   "outputs": [
    {
     "data": {
      "text/plain": [
       "0"
      ]
     },
     "execution_count": 16,
     "metadata": {},
     "output_type": "execute_result"
    }
   ],
   "source": [
    "data[\"LotFrontage\"].isnull().sum()"
   ]
  },
  {
   "cell_type": "code",
   "execution_count": 17,
   "metadata": {},
   "outputs": [
    {
     "data": {
      "application/vnd.plotly.v1+json": {
       "config": {
        "plotlyServerURL": "https://plot.ly"
       },
       "data": [
        {
         "alignmentgroup": "True",
         "hovertemplate": "GarageYrBlt=%{y}<extra></extra>",
         "legendgroup": "",
         "marker": {
          "color": "#636efa"
         },
         "name": "",
         "notched": false,
         "offsetgroup": "",
         "orientation": "v",
         "showlegend": false,
         "type": "box",
         "x0": " ",
         "xaxis": "x",
         "y": [
          2003,
          1976,
          2001,
          1998,
          2000,
          1993,
          2004,
          1973,
          1931,
          1939,
          1965,
          2005,
          1962,
          2006,
          1960,
          1991,
          1970,
          1967,
          2004,
          1958,
          2005,
          1930,
          2002,
          1976,
          1968,
          2007,
          2005,
          2008,
          1957,
          1920,
          1920,
          1966,
          2007,
          1959,
          2005,
          2004,
          1995,
          1954,
          1953,
          null,
          1965,
          1959,
          1983,
          1977,
          1959,
          2005,
          2003,
          2006,
          null,
          1966,
          1997,
          1985,
          1963,
          1981,
          1962,
          1964,
          1999,
          2004,
          2006,
          1973,
          2006,
          1935,
          2006,
          1990,
          1998,
          2004,
          1970,
          2003,
          1945,
          1953,
          1973,
          1987,
          1998,
          1989,
          1915,
          1973,
          1956,
          1948,
          null,
          1966,
          1968,
          1998,
          2007,
          1974,
          1995,
          1991,
          2005,
          2009,
          null,
          null,
          1950,
          1961,
          1921,
          1900,
          1997,
          1993,
          1999,
          1965,
          1920,
          null,
          1977,
          1985,
          1979,
          2009,
          1951,
          2003,
          1954,
          1948,
          null,
          1977,
          1954,
          2000,
          2007,
          1953,
          1945,
          1999,
          1962,
          2007,
          1990,
          2005,
          1969,
          1979,
          1958,
          1993,
          1979,
          null,
          1977,
          null,
          1966,
          1998,
          1966,
          2000,
          1974,
          2001,
          1968,
          1970,
          1967,
          1989,
          1999,
          1997,
          null,
          2005,
          2000,
          1999,
          1963,
          2004,
          1931,
          2001,
          null,
          1936,
          1975,
          2007,
          1971,
          1960,
          1923,
          null,
          1950,
          2009,
          2004,
          2006,
          1984,
          2003,
          2005,
          null,
          1926,
          null,
          1955,
          2007,
          2004,
          1981,
          1991,
          1960,
          1987,
          1961,
          1986,
          1950,
          1988,
          1958,
          2009,
          1935,
          2000,
          1920,
          1957,
          2003,
          1986,
          1993,
          1990,
          1916,
          1979,
          2001,
          1932,
          1972,
          1999,
          2004,
          1989,
          1976,
          2007,
          1918,
          null,
          2004,
          2003,
          1980,
          1924,
          2004,
          1948,
          1990,
          1962,
          1960,
          1988,
          1964,
          null,
          2009,
          2009,
          1996,
          1977,
          1957,
          2004,
          1940,
          1939,
          2005,
          2006,
          2002,
          1975,
          1989,
          2003,
          1991,
          1995,
          1987,
          1974,
          2005,
          1959,
          1995,
          1972,
          1976,
          2002,
          1971,
          2004,
          1993,
          2007,
          1949,
          2008,
          null,
          1940,
          1980,
          1994,
          1988,
          1910,
          1954,
          2003,
          1958,
          null,
          2006,
          2004,
          1964,
          1957,
          1999,
          2003,
          2006,
          2001,
          1956,
          1991,
          2007,
          1978,
          1974,
          1965,
          1981,
          1997,
          1939,
          1966,
          1987,
          2006,
          1954,
          1999,
          1958,
          1982,
          1978,
          2003,
          1951,
          2007,
          1977,
          1989,
          2006,
          2008,
          2008,
          1992,
          2006,
          1962,
          null,
          1970,
          2003,
          2006,
          null,
          1949,
          1977,
          1953,
          1984,
          1950,
          1997,
          1968,
          1950,
          1953,
          1998,
          2001,
          1975,
          2003,
          2004,
          1990,
          null,
          1961,
          2003,
          1993,
          1948,
          1939,
          1965,
          1925,
          2004,
          1983,
          2006,
          1993,
          1980,
          2006,
          2004,
          1987,
          1955,
          1961,
          1941,
          1993,
          1960,
          1930,
          1920,
          2002,
          1958,
          2003,
          2004,
          1998,
          1965,
          2005,
          2002,
          1984,
          1958,
          2002,
          1950,
          1949,
          2005,
          1976,
          1939,
          1960,
          1960,
          2003,
          2006,
          2007,
          1986,
          1941,
          2005,
          1940,
          1995,
          1992,
          1976,
          1958,
          1998,
          1978,
          1940,
          2003,
          1972,
          1976,
          1964,
          1963,
          1962,
          1954,
          1997,
          2000,
          1991,
          1984,
          1953,
          2003,
          null,
          1998,
          2004,
          2010,
          2000,
          1924,
          2006,
          2006,
          1950,
          1992,
          2004,
          null,
          1977,
          1999,
          2008,
          1978,
          2001,
          1959,
          null,
          1940,
          1956,
          1985,
          1962,
          1920,
          2007,
          1996,
          2005,
          1940,
          1998,
          1995,
          1993,
          1936,
          1960,
          2006,
          2008,
          1958,
          1955,
          2009,
          1927,
          1993,
          2007,
          1978,
          1918,
          1940,
          1968,
          1997,
          1977,
          1954,
          1998,
          1956,
          1947,
          1989,
          1964,
          2007,
          1988,
          1971,
          null,
          1971,
          1997,
          null,
          1996,
          1990,
          1926,
          1990,
          2005,
          2008,
          null,
          1930,
          2007,
          1994,
          1956,
          1966,
          1998,
          1937,
          1981,
          1932,
          1975,
          1996,
          2008,
          1976,
          1973,
          1916,
          1954,
          1925,
          1950,
          2009,
          1971,
          1965,
          1939,
          null,
          2004,
          1970,
          1942,
          2006,
          1993,
          1985,
          1977,
          2005,
          2006,
          2000,
          1996,
          1997,
          2006,
          2007,
          1995,
          2004,
          2003,
          1915,
          1998,
          1963,
          1950,
          1965,
          1971,
          1970,
          1970,
          1976,
          1941,
          2006,
          1964,
          1938,
          null,
          1992,
          1925,
          1967,
          1958,
          1973,
          2005,
          1965,
          1959,
          1974,
          1952,
          1993,
          2009,
          1928,
          1959,
          1951,
          2005,
          1964,
          1983,
          1926,
          2009,
          1972,
          1996,
          1998,
          1926,
          null,
          1957,
          1950,
          2007,
          1996,
          2005,
          1956,
          2008,
          null,
          1975,
          1988,
          1920,
          1967,
          null,
          2004,
          null,
          1998,
          1980,
          1968,
          2001,
          2006,
          2000,
          1998,
          1998,
          2006,
          1988,
          1950,
          1987,
          1963,
          2003,
          1977,
          1957,
          2006,
          2002,
          2003,
          1922,
          1957,
          1994,
          1996,
          2003,
          1957,
          1975,
          null,
          1955,
          1992,
          1920,
          2005,
          2004,
          1983,
          1979,
          1987,
          1959,
          2009,
          2000,
          1971,
          1947,
          1928,
          1966,
          2007,
          1954,
          1960,
          2009,
          null,
          1988,
          1935,
          2005,
          1961,
          1996,
          1968,
          1988,
          2004,
          2008,
          1985,
          2003,
          1981,
          2005,
          1930,
          2006,
          1977,
          1980,
          2003,
          1979,
          1992,
          2004,
          2002,
          1965,
          2000,
          1948,
          1934,
          1961,
          2000,
          1978,
          2001,
          null,
          null,
          1963,
          2002,
          1962,
          2007,
          2003,
          null,
          1974,
          1986,
          2000,
          1972,
          1962,
          1960,
          1955,
          1969,
          1964,
          1937,
          2006,
          1977,
          1954,
          1980,
          null,
          null,
          1954,
          null,
          2006,
          2003,
          2001,
          1972,
          1969,
          2009,
          1979,
          1950,
          1953,
          1966,
          null,
          2007,
          1940,
          1996,
          1906,
          1995,
          1971,
          1959,
          1931,
          1948,
          1968,
          1976,
          1994,
          1968,
          1974,
          2005,
          2000,
          1965,
          1994,
          1999,
          1922,
          2005,
          1930,
          1977,
          1957,
          1965,
          1978,
          1920,
          1924,
          2008,
          1963,
          1980,
          1968,
          1996,
          2002,
          1998,
          1984,
          2007,
          2004,
          2007,
          2005,
          2004,
          1994,
          1989,
          1968,
          1995,
          1987,
          1921,
          1952,
          1973,
          2004,
          2002,
          1969,
          2006,
          1999,
          2004,
          null,
          1971,
          2006,
          2007,
          1966,
          null,
          1964,
          1988,
          1970,
          1976,
          1974,
          1996,
          1973,
          1993,
          1969,
          1985,
          2004,
          1994,
          1958,
          2007,
          1989,
          1988,
          2007,
          1968,
          1962,
          1995,
          2003,
          1998,
          1961,
          1968,
          1914,
          1949,
          2005,
          null,
          2004,
          1910,
          1962,
          2000,
          1997,
          1993,
          1994,
          2000,
          1950,
          1996,
          1945,
          null,
          2003,
          1997,
          2005,
          1969,
          1999,
          2007,
          1978,
          1999,
          1995,
          2008,
          1965,
          2009,
          1999,
          1995,
          2008,
          1988,
          1989,
          2004,
          2003,
          1983,
          1951,
          1976,
          1958,
          2006,
          1998,
          2005,
          1974,
          1977,
          1977,
          1995,
          1992,
          2001,
          1978,
          null,
          1967,
          1961,
          2004,
          1954,
          1966,
          2005,
          1976,
          1997,
          2007,
          1994,
          1980,
          1977,
          1953,
          2009,
          1939,
          1997,
          1957,
          2005,
          2009,
          1954,
          2008,
          1967,
          1923,
          1966,
          1910,
          1974,
          2004,
          1952,
          1958,
          1955,
          1998,
          1954,
          2002,
          1971,
          2010,
          2003,
          1974,
          2003,
          1940,
          2006,
          2007,
          null,
          2001,
          1967,
          2005,
          1957,
          2005,
          2003,
          1964,
          1961,
          1996,
          1948,
          1973,
          1999,
          1946,
          1934,
          1983,
          1966,
          null,
          1949,
          1975,
          1993,
          1972,
          1908,
          1976,
          2003,
          2003,
          1941,
          1964,
          1955,
          1962,
          1981,
          1994,
          1976,
          1968,
          1925,
          1965,
          1986,
          1959,
          2008,
          1973,
          2007,
          1961,
          1979,
          1993,
          1962,
          1998,
          1953,
          1949,
          1941,
          2007,
          1963,
          2004,
          1987,
          1978,
          2005,
          1990,
          1993,
          1997,
          1967,
          1999,
          2005,
          1955,
          1970,
          1953,
          2003,
          1978,
          1963,
          1954,
          1979,
          1963,
          1936,
          1979,
          2009,
          1961,
          1979,
          1968,
          2003,
          2006,
          1967,
          1954,
          2006,
          1936,
          1983,
          2005,
          1960,
          1978,
          1925,
          1949,
          2009,
          1970,
          1958,
          1956,
          1991,
          1990,
          1994,
          null,
          2005,
          1993,
          1980,
          1977,
          2003,
          1968,
          2001,
          1997,
          2007,
          1965,
          2006,
          2004,
          1960,
          1953,
          2003,
          2005,
          2006,
          1940,
          1976,
          1999,
          null,
          1967,
          1958,
          1963,
          1959,
          2002,
          2002,
          1972,
          1980,
          1979,
          1974,
          1969,
          null,
          1946,
          1980,
          1977,
          2003,
          1999,
          null,
          1977,
          1976,
          2007,
          2002,
          2005,
          1940,
          1955,
          null,
          1958,
          null,
          2003,
          1979,
          2007,
          1997,
          2000,
          null,
          2007,
          1999,
          1963,
          1961,
          1998,
          2007,
          2002,
          1977,
          1950,
          1950,
          2010,
          1976,
          2006,
          1997,
          1925,
          1964,
          2005,
          2008,
          1946,
          1961,
          1970,
          1922,
          2006,
          1956,
          1920,
          2006,
          1976,
          2005,
          1977,
          1970,
          1970,
          2004,
          null,
          1948,
          null,
          1923,
          1956,
          1948,
          2001,
          1996,
          1984,
          1991,
          2005,
          2005,
          2006,
          1957,
          2005,
          1976,
          1980,
          1960,
          2008,
          1941,
          1972,
          null,
          1970,
          1993,
          2002,
          1938,
          1957,
          2008,
          2001,
          null,
          1970,
          1957,
          1966,
          2005,
          1990,
          1981,
          1955,
          2005,
          1996,
          1960,
          1946,
          2007,
          2007,
          1964,
          1957,
          2002,
          1976,
          2005,
          1994,
          2008,
          1977,
          2001,
          1994,
          1945,
          1976,
          1966,
          1996,
          1993,
          1964,
          1973,
          1985,
          1956,
          1968,
          1954,
          1977,
          2006,
          1940,
          1950,
          1969,
          2004,
          1996,
          1971,
          1963,
          2002,
          1964,
          1995,
          1992,
          1973,
          2005,
          2004,
          2005,
          1987,
          1999,
          1925,
          1977,
          1956,
          2006,
          null,
          1987,
          1936,
          1978,
          1930,
          1981,
          1960,
          1954,
          1970,
          1994,
          1990,
          2006,
          2000,
          2004,
          1995,
          1976,
          1957,
          1953,
          1955,
          2007,
          2002,
          1967,
          1958,
          1959,
          1920,
          2005,
          1956,
          null,
          1992,
          1977,
          2007,
          2004,
          2004,
          1980,
          1981,
          null,
          1930,
          1995,
          1997,
          1926,
          1950,
          null,
          1977,
          1972,
          1988,
          1976,
          2006,
          null,
          1941,
          1928,
          1985,
          1941,
          1982,
          1930,
          1950,
          1959,
          1956,
          2002,
          1965,
          1976,
          1965,
          2008,
          2008,
          1974,
          1978,
          1993,
          1968,
          1969,
          1978,
          2009,
          2008,
          2000,
          1935,
          1995,
          1977,
          1958,
          2006,
          null,
          1932,
          1992,
          1984,
          1926,
          1921,
          null,
          1990,
          2008,
          1996,
          1970,
          1963,
          1965,
          1920,
          1994,
          2002,
          1999,
          1975,
          1999,
          1925,
          1999,
          1969,
          2005,
          2006,
          1916,
          2001,
          1974,
          1972,
          1998,
          1960,
          2000,
          1975,
          1990,
          1966,
          2003,
          1980,
          2006,
          1992,
          1988,
          1941,
          1965,
          1962,
          1966,
          1978,
          2009,
          null,
          null,
          1964,
          1968,
          1949,
          1951,
          2004,
          1958,
          2007,
          1992,
          2008,
          1960,
          1977,
          1962,
          1962,
          1959,
          null,
          1914,
          2003,
          2004,
          2005,
          2006,
          2003,
          2007,
          1974,
          2006,
          1931,
          1984,
          2005,
          1976,
          1950,
          1950,
          1968,
          2003,
          1968,
          1974,
          2003,
          1978,
          1994,
          null,
          2005,
          1969,
          1999,
          1956,
          1957,
          1940,
          1998,
          1999,
          1960,
          2009,
          1982,
          1958,
          1979,
          1968,
          1965,
          1959,
          1985,
          1948,
          1972,
          1967,
          2002,
          1980,
          2002,
          1990,
          1977,
          null,
          1969,
          1939,
          1963,
          1964,
          2000,
          2006,
          1964,
          1972,
          1985,
          1976,
          1957,
          1968,
          1963,
          2005,
          2008,
          1959,
          1999,
          1942,
          1994,
          2005,
          2004,
          2006,
          2005,
          2000,
          1948,
          1991,
          1959,
          2005,
          1990,
          1999,
          1956,
          1969,
          2008,
          2006,
          2001,
          1954,
          1957,
          1955,
          1992,
          null,
          2007,
          null,
          null,
          1982,
          1920,
          1998,
          2006,
          1976,
          1958,
          1951,
          1970,
          1977,
          1973,
          null,
          2002,
          1972,
          1974,
          2004,
          2002,
          1929,
          2006,
          1997,
          1968,
          2006,
          1998,
          null,
          1969,
          1962,
          1999,
          1996,
          2000,
          1968,
          1966,
          1971,
          2000,
          2004,
          1998,
          2005,
          1920,
          2007,
          2005,
          2000,
          1999,
          1977,
          2003,
          2003,
          1967,
          1955,
          1998,
          2001,
          2005,
          2007,
          1925,
          1977,
          1973,
          2007,
          1938,
          1970,
          1989,
          2007,
          1939,
          1922,
          1978,
          1916,
          2006,
          2003,
          2000,
          1967,
          1967,
          2003,
          2006,
          2005,
          1966,
          1933,
          1950,
          1925,
          1929,
          2004,
          2006,
          2007,
          1998,
          2004,
          1988,
          null,
          1966,
          1986,
          2001,
          1950,
          1956,
          2005,
          1922,
          2007,
          1971,
          1998,
          1962,
          1969,
          1968,
          1977,
          2003,
          1966,
          1970,
          1960,
          1994,
          1962,
          1940,
          1981,
          2005,
          1976,
          1928,
          2000,
          1977,
          1962,
          1974,
          2008,
          1957,
          1979,
          1993,
          2004,
          2008,
          1916,
          2004,
          1990,
          1962,
          1995,
          1950,
          null,
          null,
          2008,
          2005,
          null,
          2004,
          1999,
          1978,
          1941,
          1950,
          1965
         ],
         "y0": " ",
         "yaxis": "y"
        }
       ],
       "layout": {
        "boxmode": "group",
        "legend": {
         "tracegroupgap": 0
        },
        "template": {
         "data": {
          "bar": [
           {
            "error_x": {
             "color": "#2a3f5f"
            },
            "error_y": {
             "color": "#2a3f5f"
            },
            "marker": {
             "line": {
              "color": "#E5ECF6",
              "width": 0.5
             },
             "pattern": {
              "fillmode": "overlay",
              "size": 10,
              "solidity": 0.2
             }
            },
            "type": "bar"
           }
          ],
          "barpolar": [
           {
            "marker": {
             "line": {
              "color": "#E5ECF6",
              "width": 0.5
             },
             "pattern": {
              "fillmode": "overlay",
              "size": 10,
              "solidity": 0.2
             }
            },
            "type": "barpolar"
           }
          ],
          "carpet": [
           {
            "aaxis": {
             "endlinecolor": "#2a3f5f",
             "gridcolor": "white",
             "linecolor": "white",
             "minorgridcolor": "white",
             "startlinecolor": "#2a3f5f"
            },
            "baxis": {
             "endlinecolor": "#2a3f5f",
             "gridcolor": "white",
             "linecolor": "white",
             "minorgridcolor": "white",
             "startlinecolor": "#2a3f5f"
            },
            "type": "carpet"
           }
          ],
          "choropleth": [
           {
            "colorbar": {
             "outlinewidth": 0,
             "ticks": ""
            },
            "type": "choropleth"
           }
          ],
          "contour": [
           {
            "colorbar": {
             "outlinewidth": 0,
             "ticks": ""
            },
            "colorscale": [
             [
              0,
              "#0d0887"
             ],
             [
              0.1111111111111111,
              "#46039f"
             ],
             [
              0.2222222222222222,
              "#7201a8"
             ],
             [
              0.3333333333333333,
              "#9c179e"
             ],
             [
              0.4444444444444444,
              "#bd3786"
             ],
             [
              0.5555555555555556,
              "#d8576b"
             ],
             [
              0.6666666666666666,
              "#ed7953"
             ],
             [
              0.7777777777777778,
              "#fb9f3a"
             ],
             [
              0.8888888888888888,
              "#fdca26"
             ],
             [
              1,
              "#f0f921"
             ]
            ],
            "type": "contour"
           }
          ],
          "contourcarpet": [
           {
            "colorbar": {
             "outlinewidth": 0,
             "ticks": ""
            },
            "type": "contourcarpet"
           }
          ],
          "heatmap": [
           {
            "colorbar": {
             "outlinewidth": 0,
             "ticks": ""
            },
            "colorscale": [
             [
              0,
              "#0d0887"
             ],
             [
              0.1111111111111111,
              "#46039f"
             ],
             [
              0.2222222222222222,
              "#7201a8"
             ],
             [
              0.3333333333333333,
              "#9c179e"
             ],
             [
              0.4444444444444444,
              "#bd3786"
             ],
             [
              0.5555555555555556,
              "#d8576b"
             ],
             [
              0.6666666666666666,
              "#ed7953"
             ],
             [
              0.7777777777777778,
              "#fb9f3a"
             ],
             [
              0.8888888888888888,
              "#fdca26"
             ],
             [
              1,
              "#f0f921"
             ]
            ],
            "type": "heatmap"
           }
          ],
          "heatmapgl": [
           {
            "colorbar": {
             "outlinewidth": 0,
             "ticks": ""
            },
            "colorscale": [
             [
              0,
              "#0d0887"
             ],
             [
              0.1111111111111111,
              "#46039f"
             ],
             [
              0.2222222222222222,
              "#7201a8"
             ],
             [
              0.3333333333333333,
              "#9c179e"
             ],
             [
              0.4444444444444444,
              "#bd3786"
             ],
             [
              0.5555555555555556,
              "#d8576b"
             ],
             [
              0.6666666666666666,
              "#ed7953"
             ],
             [
              0.7777777777777778,
              "#fb9f3a"
             ],
             [
              0.8888888888888888,
              "#fdca26"
             ],
             [
              1,
              "#f0f921"
             ]
            ],
            "type": "heatmapgl"
           }
          ],
          "histogram": [
           {
            "marker": {
             "pattern": {
              "fillmode": "overlay",
              "size": 10,
              "solidity": 0.2
             }
            },
            "type": "histogram"
           }
          ],
          "histogram2d": [
           {
            "colorbar": {
             "outlinewidth": 0,
             "ticks": ""
            },
            "colorscale": [
             [
              0,
              "#0d0887"
             ],
             [
              0.1111111111111111,
              "#46039f"
             ],
             [
              0.2222222222222222,
              "#7201a8"
             ],
             [
              0.3333333333333333,
              "#9c179e"
             ],
             [
              0.4444444444444444,
              "#bd3786"
             ],
             [
              0.5555555555555556,
              "#d8576b"
             ],
             [
              0.6666666666666666,
              "#ed7953"
             ],
             [
              0.7777777777777778,
              "#fb9f3a"
             ],
             [
              0.8888888888888888,
              "#fdca26"
             ],
             [
              1,
              "#f0f921"
             ]
            ],
            "type": "histogram2d"
           }
          ],
          "histogram2dcontour": [
           {
            "colorbar": {
             "outlinewidth": 0,
             "ticks": ""
            },
            "colorscale": [
             [
              0,
              "#0d0887"
             ],
             [
              0.1111111111111111,
              "#46039f"
             ],
             [
              0.2222222222222222,
              "#7201a8"
             ],
             [
              0.3333333333333333,
              "#9c179e"
             ],
             [
              0.4444444444444444,
              "#bd3786"
             ],
             [
              0.5555555555555556,
              "#d8576b"
             ],
             [
              0.6666666666666666,
              "#ed7953"
             ],
             [
              0.7777777777777778,
              "#fb9f3a"
             ],
             [
              0.8888888888888888,
              "#fdca26"
             ],
             [
              1,
              "#f0f921"
             ]
            ],
            "type": "histogram2dcontour"
           }
          ],
          "mesh3d": [
           {
            "colorbar": {
             "outlinewidth": 0,
             "ticks": ""
            },
            "type": "mesh3d"
           }
          ],
          "parcoords": [
           {
            "line": {
             "colorbar": {
              "outlinewidth": 0,
              "ticks": ""
             }
            },
            "type": "parcoords"
           }
          ],
          "pie": [
           {
            "automargin": true,
            "type": "pie"
           }
          ],
          "scatter": [
           {
            "fillpattern": {
             "fillmode": "overlay",
             "size": 10,
             "solidity": 0.2
            },
            "type": "scatter"
           }
          ],
          "scatter3d": [
           {
            "line": {
             "colorbar": {
              "outlinewidth": 0,
              "ticks": ""
             }
            },
            "marker": {
             "colorbar": {
              "outlinewidth": 0,
              "ticks": ""
             }
            },
            "type": "scatter3d"
           }
          ],
          "scattercarpet": [
           {
            "marker": {
             "colorbar": {
              "outlinewidth": 0,
              "ticks": ""
             }
            },
            "type": "scattercarpet"
           }
          ],
          "scattergeo": [
           {
            "marker": {
             "colorbar": {
              "outlinewidth": 0,
              "ticks": ""
             }
            },
            "type": "scattergeo"
           }
          ],
          "scattergl": [
           {
            "marker": {
             "colorbar": {
              "outlinewidth": 0,
              "ticks": ""
             }
            },
            "type": "scattergl"
           }
          ],
          "scattermapbox": [
           {
            "marker": {
             "colorbar": {
              "outlinewidth": 0,
              "ticks": ""
             }
            },
            "type": "scattermapbox"
           }
          ],
          "scatterpolar": [
           {
            "marker": {
             "colorbar": {
              "outlinewidth": 0,
              "ticks": ""
             }
            },
            "type": "scatterpolar"
           }
          ],
          "scatterpolargl": [
           {
            "marker": {
             "colorbar": {
              "outlinewidth": 0,
              "ticks": ""
             }
            },
            "type": "scatterpolargl"
           }
          ],
          "scatterternary": [
           {
            "marker": {
             "colorbar": {
              "outlinewidth": 0,
              "ticks": ""
             }
            },
            "type": "scatterternary"
           }
          ],
          "surface": [
           {
            "colorbar": {
             "outlinewidth": 0,
             "ticks": ""
            },
            "colorscale": [
             [
              0,
              "#0d0887"
             ],
             [
              0.1111111111111111,
              "#46039f"
             ],
             [
              0.2222222222222222,
              "#7201a8"
             ],
             [
              0.3333333333333333,
              "#9c179e"
             ],
             [
              0.4444444444444444,
              "#bd3786"
             ],
             [
              0.5555555555555556,
              "#d8576b"
             ],
             [
              0.6666666666666666,
              "#ed7953"
             ],
             [
              0.7777777777777778,
              "#fb9f3a"
             ],
             [
              0.8888888888888888,
              "#fdca26"
             ],
             [
              1,
              "#f0f921"
             ]
            ],
            "type": "surface"
           }
          ],
          "table": [
           {
            "cells": {
             "fill": {
              "color": "#EBF0F8"
             },
             "line": {
              "color": "white"
             }
            },
            "header": {
             "fill": {
              "color": "#C8D4E3"
             },
             "line": {
              "color": "white"
             }
            },
            "type": "table"
           }
          ]
         },
         "layout": {
          "annotationdefaults": {
           "arrowcolor": "#2a3f5f",
           "arrowhead": 0,
           "arrowwidth": 1
          },
          "autotypenumbers": "strict",
          "coloraxis": {
           "colorbar": {
            "outlinewidth": 0,
            "ticks": ""
           }
          },
          "colorscale": {
           "diverging": [
            [
             0,
             "#8e0152"
            ],
            [
             0.1,
             "#c51b7d"
            ],
            [
             0.2,
             "#de77ae"
            ],
            [
             0.3,
             "#f1b6da"
            ],
            [
             0.4,
             "#fde0ef"
            ],
            [
             0.5,
             "#f7f7f7"
            ],
            [
             0.6,
             "#e6f5d0"
            ],
            [
             0.7,
             "#b8e186"
            ],
            [
             0.8,
             "#7fbc41"
            ],
            [
             0.9,
             "#4d9221"
            ],
            [
             1,
             "#276419"
            ]
           ],
           "sequential": [
            [
             0,
             "#0d0887"
            ],
            [
             0.1111111111111111,
             "#46039f"
            ],
            [
             0.2222222222222222,
             "#7201a8"
            ],
            [
             0.3333333333333333,
             "#9c179e"
            ],
            [
             0.4444444444444444,
             "#bd3786"
            ],
            [
             0.5555555555555556,
             "#d8576b"
            ],
            [
             0.6666666666666666,
             "#ed7953"
            ],
            [
             0.7777777777777778,
             "#fb9f3a"
            ],
            [
             0.8888888888888888,
             "#fdca26"
            ],
            [
             1,
             "#f0f921"
            ]
           ],
           "sequentialminus": [
            [
             0,
             "#0d0887"
            ],
            [
             0.1111111111111111,
             "#46039f"
            ],
            [
             0.2222222222222222,
             "#7201a8"
            ],
            [
             0.3333333333333333,
             "#9c179e"
            ],
            [
             0.4444444444444444,
             "#bd3786"
            ],
            [
             0.5555555555555556,
             "#d8576b"
            ],
            [
             0.6666666666666666,
             "#ed7953"
            ],
            [
             0.7777777777777778,
             "#fb9f3a"
            ],
            [
             0.8888888888888888,
             "#fdca26"
            ],
            [
             1,
             "#f0f921"
            ]
           ]
          },
          "colorway": [
           "#636efa",
           "#EF553B",
           "#00cc96",
           "#ab63fa",
           "#FFA15A",
           "#19d3f3",
           "#FF6692",
           "#B6E880",
           "#FF97FF",
           "#FECB52"
          ],
          "font": {
           "color": "#2a3f5f"
          },
          "geo": {
           "bgcolor": "white",
           "lakecolor": "white",
           "landcolor": "#E5ECF6",
           "showlakes": true,
           "showland": true,
           "subunitcolor": "white"
          },
          "hoverlabel": {
           "align": "left"
          },
          "hovermode": "closest",
          "mapbox": {
           "style": "light"
          },
          "paper_bgcolor": "white",
          "plot_bgcolor": "#E5ECF6",
          "polar": {
           "angularaxis": {
            "gridcolor": "white",
            "linecolor": "white",
            "ticks": ""
           },
           "bgcolor": "#E5ECF6",
           "radialaxis": {
            "gridcolor": "white",
            "linecolor": "white",
            "ticks": ""
           }
          },
          "scene": {
           "xaxis": {
            "backgroundcolor": "#E5ECF6",
            "gridcolor": "white",
            "gridwidth": 2,
            "linecolor": "white",
            "showbackground": true,
            "ticks": "",
            "zerolinecolor": "white"
           },
           "yaxis": {
            "backgroundcolor": "#E5ECF6",
            "gridcolor": "white",
            "gridwidth": 2,
            "linecolor": "white",
            "showbackground": true,
            "ticks": "",
            "zerolinecolor": "white"
           },
           "zaxis": {
            "backgroundcolor": "#E5ECF6",
            "gridcolor": "white",
            "gridwidth": 2,
            "linecolor": "white",
            "showbackground": true,
            "ticks": "",
            "zerolinecolor": "white"
           }
          },
          "shapedefaults": {
           "line": {
            "color": "#2a3f5f"
           }
          },
          "ternary": {
           "aaxis": {
            "gridcolor": "white",
            "linecolor": "white",
            "ticks": ""
           },
           "baxis": {
            "gridcolor": "white",
            "linecolor": "white",
            "ticks": ""
           },
           "bgcolor": "#E5ECF6",
           "caxis": {
            "gridcolor": "white",
            "linecolor": "white",
            "ticks": ""
           }
          },
          "title": {
           "x": 0.05
          },
          "xaxis": {
           "automargin": true,
           "gridcolor": "white",
           "linecolor": "white",
           "ticks": "",
           "title": {
            "standoff": 15
           },
           "zerolinecolor": "white",
           "zerolinewidth": 2
          },
          "yaxis": {
           "automargin": true,
           "gridcolor": "white",
           "linecolor": "white",
           "ticks": "",
           "title": {
            "standoff": 15
           },
           "zerolinecolor": "white",
           "zerolinewidth": 2
          }
         }
        },
        "title": {
         "text": "Box Plot for LotFrontage"
        },
        "xaxis": {
         "anchor": "y",
         "domain": [
          0,
          1
         ]
        },
        "yaxis": {
         "anchor": "x",
         "domain": [
          0,
          1
         ],
         "title": {
          "text": "GarageYrBlt"
         }
        }
       }
      }
     },
     "metadata": {},
     "output_type": "display_data"
    }
   ],
   "source": [
    "fig = px.box(data, y='GarageYrBlt', title='Box Plot for LotFrontage')\n",
    "fig.show()"
   ]
  },
  {
   "cell_type": "code",
   "execution_count": 18,
   "metadata": {},
   "outputs": [],
   "source": [
    "# from the above plot we can see that the column named \"GarageYrBlt\" had no outliers so we can impute the data using mean values\n"
   ]
  },
  {
   "cell_type": "code",
   "execution_count": 19,
   "metadata": {},
   "outputs": [],
   "source": [
    "data[\"GarageYrBlt\"] = data[\"GarageYrBlt\"].fillna(value=data[\"GarageYrBlt\"].mean())"
   ]
  },
  {
   "cell_type": "code",
   "execution_count": 20,
   "metadata": {},
   "outputs": [
    {
     "data": {
      "text/plain": [
       "0"
      ]
     },
     "execution_count": 20,
     "metadata": {},
     "output_type": "execute_result"
    }
   ],
   "source": [
    "#Checking tha data imputation happened or not\n",
    "data[\"GarageYrBlt\"].isnull().sum()"
   ]
  },
  {
   "cell_type": "code",
   "execution_count": 21,
   "metadata": {},
   "outputs": [],
   "source": [
    "data[\"MasVnrArea\"] = data[\"MasVnrArea\"].fillna(value=data[\"MasVnrArea\"].mean())"
   ]
  },
  {
   "cell_type": "code",
   "execution_count": 22,
   "metadata": {},
   "outputs": [
    {
     "data": {
      "text/plain": [
       "0"
      ]
     },
     "execution_count": 22,
     "metadata": {},
     "output_type": "execute_result"
    }
   ],
   "source": [
    "#checking that the imputation happen or not\n",
    "data[\"MasVnrArea\"].isnull().sum()"
   ]
  },
  {
   "cell_type": "markdown",
   "metadata": {},
   "source": [
    "*Missing value in the categorical dataset*"
   ]
  },
  {
   "cell_type": "code",
   "execution_count": 23,
   "metadata": {},
   "outputs": [
    {
     "name": "stdout",
     "output_type": "stream",
     "text": [
      "Percentage of Missing Values in Each Column (Sorted):\n",
      "PoolQC         100.0\n",
      "MiscFeature     96.0\n",
      "Alley           94.0\n",
      "Fence           81.0\n",
      "FireplaceQu     47.0\n",
      "               ...  \n",
      "MasVnrArea       0.0\n",
      "Exterior2nd      0.0\n",
      "Exterior1st      0.0\n",
      "RoofMatl         0.0\n",
      "SalePrice        0.0\n",
      "Length: 81, dtype: float64\n"
     ]
    }
   ],
   "source": [
    "missing_percentage = (data.isnull().sum() / len(data)) * 100\n",
    "\n",
    "# Sort the values in descending order\n",
    "missing_percentage_sorted = missing_percentage.sort_values(ascending=False)\n",
    "\n",
    "# Display the sorted results\n",
    "print(\"Percentage of Missing Values in Each Column (Sorted):\")\n",
    "print(np.round(missing_percentage_sorted))"
   ]
  },
  {
   "cell_type": "code",
   "execution_count": 24,
   "metadata": {},
   "outputs": [
    {
     "name": "stdout",
     "output_type": "stream",
     "text": [
      "Columns after dropping: Index(['Id', 'MSSubClass', 'MSZoning', 'LotFrontage', 'LotArea', 'Street',\n",
      "       'LotShape', 'LandContour', 'Utilities', 'LotConfig', 'LandSlope',\n",
      "       'Neighborhood', 'Condition1', 'Condition2', 'BldgType', 'HouseStyle',\n",
      "       'OverallQual', 'OverallCond', 'YearBuilt', 'YearRemodAdd', 'RoofStyle',\n",
      "       'RoofMatl', 'Exterior1st', 'Exterior2nd', 'MasVnrType', 'MasVnrArea',\n",
      "       'ExterQual', 'ExterCond', 'Foundation', 'BsmtQual', 'BsmtCond',\n",
      "       'BsmtExposure', 'BsmtFinType1', 'BsmtFinSF1', 'BsmtFinType2',\n",
      "       'BsmtFinSF2', 'BsmtUnfSF', 'TotalBsmtSF', 'Heating', 'HeatingQC',\n",
      "       'CentralAir', 'Electrical', '1stFlrSF', '2ndFlrSF', 'LowQualFinSF',\n",
      "       'GrLivArea', 'BsmtFullBath', 'BsmtHalfBath', 'FullBath', 'HalfBath',\n",
      "       'BedroomAbvGr', 'KitchenAbvGr', 'KitchenQual', 'TotRmsAbvGrd',\n",
      "       'Functional', 'Fireplaces', 'GarageType', 'GarageYrBlt', 'GarageFinish',\n",
      "       'GarageCars', 'GarageArea', 'GarageQual', 'GarageCond', 'PavedDrive',\n",
      "       'WoodDeckSF', 'OpenPorchSF', 'EnclosedPorch', '3SsnPorch',\n",
      "       'ScreenPorch', 'PoolArea', 'MiscVal', 'MoSold', 'YrSold', 'SaleType',\n",
      "       'SaleCondition', 'SalePrice'],\n",
      "      dtype='object')\n"
     ]
    }
   ],
   "source": [
    "# List of columns to drop based on their missing percentage\n",
    "columns_to_drop = ['PoolQC', 'MiscFeature', 'Alley', 'Fence', 'FireplaceQu']\n",
    "\n",
    "# Drop the specified columns from the DataFrame\n",
    "data.drop(columns=columns_to_drop, inplace=True)\n",
    "\n",
    "# Verify the columns have been dropped\n",
    "print(\"Columns after dropping:\", data.columns)\n"
   ]
  },
  {
   "cell_type": "code",
   "execution_count": 25,
   "metadata": {},
   "outputs": [
    {
     "name": "stdout",
     "output_type": "stream",
     "text": [
      "Percentage of Missing Values in Each Column (Sorted):\n",
      "GarageType      6.0\n",
      "GarageFinish    6.0\n",
      "GarageQual      6.0\n",
      "GarageCond      6.0\n",
      "BsmtExposure    3.0\n",
      "               ... \n",
      "BsmtFinSF2      0.0\n",
      "BsmtUnfSF       0.0\n",
      "TotalBsmtSF     0.0\n",
      "MSSubClass      0.0\n",
      "SalePrice       0.0\n",
      "Length: 76, dtype: float64\n"
     ]
    }
   ],
   "source": [
    "missing_percentage = (data.isnull().sum() / len(data)) * 100\n",
    "\n",
    "# Sort the values in descending order\n",
    "missing_percentage_sorted = missing_percentage.sort_values(ascending=False)\n",
    "\n",
    "# Display the sorted results\n",
    "print(\"Percentage of Missing Values in Each Column (Sorted):\")\n",
    "print(np.round(missing_percentage_sorted))"
   ]
  },
  {
   "cell_type": "code",
   "execution_count": 26,
   "metadata": {},
   "outputs": [
    {
     "name": "stdout",
     "output_type": "stream",
     "text": [
      "Missing values after imputation: GarageCond      0\n",
      "GarageQual      0\n",
      "GarageFinish    0\n",
      "GarageType      0\n",
      "BsmtExposure    0\n",
      "BsmtFinType2    0\n",
      "BsmtCond        0\n",
      "BsmtFinType1    0\n",
      "BsmtQual        0\n",
      "MasVnrType      0\n",
      "Electrical      0\n",
      "dtype: int64\n"
     ]
    }
   ],
   "source": [
    "from sklearn.impute import SimpleImputer\n",
    "\n",
    "# List of columns with missing values\n",
    "columns_with_missing = ['GarageCond', 'GarageQual', 'GarageFinish', 'GarageType',\n",
    "                         'BsmtExposure', 'BsmtFinType2', 'BsmtCond', 'BsmtFinType1',\n",
    "                         'BsmtQual', 'MasVnrType',\"Electrical\"]\n",
    "\n",
    "# Create a SimpleImputer with strategy='mean'\n",
    "imputer = SimpleImputer(strategy='most_frequent')\n",
    "\n",
    "# Impute missing values in the specified columns\n",
    "data[columns_with_missing] = imputer.fit_transform(data[columns_with_missing])\n",
    "\n",
    "# Verify that missing values have been imputed\n",
    "print(\"Missing values after imputation:\", data[columns_with_missing].isnull().sum())\n"
   ]
  },
  {
   "cell_type": "code",
   "execution_count": 27,
   "metadata": {},
   "outputs": [
    {
     "name": "stdout",
     "output_type": "stream",
     "text": [
      "<class 'pandas.core.frame.DataFrame'>\n",
      "RangeIndex: 1460 entries, 0 to 1459\n",
      "Data columns (total 76 columns):\n",
      " #   Column         Non-Null Count  Dtype  \n",
      "---  ------         --------------  -----  \n",
      " 0   Id             1460 non-null   int64  \n",
      " 1   MSSubClass     1460 non-null   int64  \n",
      " 2   MSZoning       1460 non-null   object \n",
      " 3   LotFrontage    1460 non-null   float64\n",
      " 4   LotArea        1460 non-null   int64  \n",
      " 5   Street         1460 non-null   object \n",
      " 6   LotShape       1460 non-null   object \n",
      " 7   LandContour    1460 non-null   object \n",
      " 8   Utilities      1460 non-null   object \n",
      " 9   LotConfig      1460 non-null   object \n",
      " 10  LandSlope      1460 non-null   object \n",
      " 11  Neighborhood   1460 non-null   object \n",
      " 12  Condition1     1460 non-null   object \n",
      " 13  Condition2     1460 non-null   object \n",
      " 14  BldgType       1460 non-null   object \n",
      " 15  HouseStyle     1460 non-null   object \n",
      " 16  OverallQual    1460 non-null   int64  \n",
      " 17  OverallCond    1460 non-null   int64  \n",
      " 18  YearBuilt      1460 non-null   int64  \n",
      " 19  YearRemodAdd   1460 non-null   int64  \n",
      " 20  RoofStyle      1460 non-null   object \n",
      " 21  RoofMatl       1460 non-null   object \n",
      " 22  Exterior1st    1460 non-null   object \n",
      " 23  Exterior2nd    1460 non-null   object \n",
      " 24  MasVnrType     1460 non-null   object \n",
      " 25  MasVnrArea     1460 non-null   float64\n",
      " 26  ExterQual      1460 non-null   object \n",
      " 27  ExterCond      1460 non-null   object \n",
      " 28  Foundation     1460 non-null   object \n",
      " 29  BsmtQual       1460 non-null   object \n",
      " 30  BsmtCond       1460 non-null   object \n",
      " 31  BsmtExposure   1460 non-null   object \n",
      " 32  BsmtFinType1   1460 non-null   object \n",
      " 33  BsmtFinSF1     1460 non-null   int64  \n",
      " 34  BsmtFinType2   1460 non-null   object \n",
      " 35  BsmtFinSF2     1460 non-null   int64  \n",
      " 36  BsmtUnfSF      1460 non-null   int64  \n",
      " 37  TotalBsmtSF    1460 non-null   int64  \n",
      " 38  Heating        1460 non-null   object \n",
      " 39  HeatingQC      1460 non-null   object \n",
      " 40  CentralAir     1460 non-null   object \n",
      " 41  Electrical     1460 non-null   object \n",
      " 42  1stFlrSF       1460 non-null   int64  \n",
      " 43  2ndFlrSF       1460 non-null   int64  \n",
      " 44  LowQualFinSF   1460 non-null   int64  \n",
      " 45  GrLivArea      1460 non-null   int64  \n",
      " 46  BsmtFullBath   1460 non-null   int64  \n",
      " 47  BsmtHalfBath   1460 non-null   int64  \n",
      " 48  FullBath       1460 non-null   int64  \n",
      " 49  HalfBath       1460 non-null   int64  \n",
      " 50  BedroomAbvGr   1460 non-null   int64  \n",
      " 51  KitchenAbvGr   1460 non-null   int64  \n",
      " 52  KitchenQual    1460 non-null   object \n",
      " 53  TotRmsAbvGrd   1460 non-null   int64  \n",
      " 54  Functional     1460 non-null   object \n",
      " 55  Fireplaces     1460 non-null   int64  \n",
      " 56  GarageType     1460 non-null   object \n",
      " 57  GarageYrBlt    1460 non-null   float64\n",
      " 58  GarageFinish   1460 non-null   object \n",
      " 59  GarageCars     1460 non-null   int64  \n",
      " 60  GarageArea     1460 non-null   int64  \n",
      " 61  GarageQual     1460 non-null   object \n",
      " 62  GarageCond     1460 non-null   object \n",
      " 63  PavedDrive     1460 non-null   object \n",
      " 64  WoodDeckSF     1460 non-null   int64  \n",
      " 65  OpenPorchSF    1460 non-null   int64  \n",
      " 66  EnclosedPorch  1460 non-null   int64  \n",
      " 67  3SsnPorch      1460 non-null   int64  \n",
      " 68  ScreenPorch    1460 non-null   int64  \n",
      " 69  PoolArea       1460 non-null   int64  \n",
      " 70  MiscVal        1460 non-null   int64  \n",
      " 71  MoSold         1460 non-null   int64  \n",
      " 72  YrSold         1460 non-null   int64  \n",
      " 73  SaleType       1460 non-null   object \n",
      " 74  SaleCondition  1460 non-null   object \n",
      " 75  SalePrice      1460 non-null   int64  \n",
      "dtypes: float64(3), int64(35), object(38)\n",
      "memory usage: 867.0+ KB\n"
     ]
    }
   ],
   "source": [
    "# checking the missing values in the categorical dataset\n",
    "data.info()"
   ]
  },
  {
   "cell_type": "code",
   "execution_count": 28,
   "metadata": {},
   "outputs": [
    {
     "data": {
      "text/plain": [
       "0       208500\n",
       "1       181500\n",
       "2       223500\n",
       "3       140000\n",
       "4       250000\n",
       "         ...  \n",
       "1455    175000\n",
       "1456    210000\n",
       "1457    266500\n",
       "1458    142125\n",
       "1459    147500\n",
       "Name: SalePrice, Length: 1460, dtype: int64"
      ]
     },
     "execution_count": 28,
     "metadata": {},
     "output_type": "execute_result"
    }
   ],
   "source": [
    "data[\"SalePrice\"]"
   ]
  },
  {
   "cell_type": "markdown",
   "metadata": {},
   "source": [
    "All missing values in the categorical dataset have been imputed."
   ]
  },
  {
   "cell_type": "code",
   "execution_count": 29,
   "metadata": {},
   "outputs": [
    {
     "data": {
      "text/plain": [
       "(1460, 76)"
      ]
     },
     "execution_count": 29,
     "metadata": {},
     "output_type": "execute_result"
    }
   ],
   "source": [
    "data.shape"
   ]
  },
  {
   "cell_type": "code",
   "execution_count": 30,
   "metadata": {},
   "outputs": [
    {
     "name": "stdout",
     "output_type": "stream",
     "text": [
      "   Id  MSSubClass  LotFrontage  LotArea Street LotShape LandContour Utilities  \\\n",
      "0   1          60         65.0     8450   Pave      Reg         Lvl    AllPub   \n",
      "1   2          20         80.0     9600   Pave      Reg         Lvl    AllPub   \n",
      "2   3          60         68.0    11250   Pave      IR1         Lvl    AllPub   \n",
      "3   4          70         60.0     9550   Pave      IR1         Lvl    AllPub   \n",
      "4   5          60         84.0    14260   Pave      IR1         Lvl    AllPub   \n",
      "\n",
      "  LotConfig LandSlope  ... MoSold SaleType SaleCondition SalePrice TotalSF  \\\n",
      "0    Inside       Gtl  ...      2       WD        Normal    208500    1710   \n",
      "1       FR2       Gtl  ...      5       WD        Normal    181500    1262   \n",
      "2    Inside       Gtl  ...      9       WD        Normal    223500    1786   \n",
      "3    Corner       Gtl  ...      2       WD       Abnorml    140000    1717   \n",
      "4       FR2       Gtl  ...     12       WD        Normal    250000    2198   \n",
      "\n",
      "   AgeAtSale  TotalBathrooms  TotalPorchSF HasGarage TotalOutdoorSF  \n",
      "0          5             3.5            61         1             61  \n",
      "1         31             2.5             0         1            298  \n",
      "2          7             3.5            42         1             42  \n",
      "3         91             2.0           307         1            307  \n",
      "4          8             3.5            84         1            276  \n",
      "\n",
      "[5 rows x 66 columns]\n"
     ]
    }
   ],
   "source": [
    "import pandas as pd\n",
    "\n",
    "# Assuming 'data' is your DataFrame with the given data\n",
    "\n",
    "# Combine the square footage of the first and second floor to get the total living area\n",
    "data['TotalSF'] = data['1stFlrSF'] + data['2ndFlrSF']\n",
    "\n",
    "# Create a new feature for the age of the house at the time of sale\n",
    "data['AgeAtSale'] = data['YrSold'] -data['YearBuilt']\n",
    "\n",
    "# Combine bathroom features to get the total number of bathrooms in the house\n",
    "data['TotalBathrooms'] = data['FullBath'] + (0.5 * data['HalfBath']) + data['BsmtFullBath'] + (0.5 * data['BsmtHalfBath'])\n",
    "\n",
    "# Combine the porch areas to get the total porch area\n",
    "data['TotalPorchSF'] = data['OpenPorchSF'] + data['EnclosedPorch'] + data['3SsnPorch'] + data['ScreenPorch']\n",
    "\n",
    "# Create a new binary feature indicating whether the house has a garage or not\n",
    "data['HasGarage'] = data['GarageType'].apply(lambda x: 0 if pd.isna(x) else 1)\n",
    "\n",
    "# Combine the deck and porch areas to get the total outdoor area\n",
    "data['TotalOutdoorSF'] = data['WoodDeckSF'] + data['TotalPorchSF']\n",
    "\n",
    "# Extract the month and year from the 'MoSold' and 'YrSold' columns\n",
    "data['SaleDate'] = pd.to_datetime(data['YrSold'].astype(str) + '-' + data['MoSold'].astype(str) + '-01')\n",
    "\n",
    "# Drop the original columns that were used to create new features\n",
    "data = data.drop(['1stFlrSF', '2ndFlrSF', 'YrSold', 'YearBuilt', 'FullBath', 'HalfBath',\n",
    "              'BsmtFullBath', 'BsmtHalfBath',  'OpenPorchSF',\n",
    "              'EnclosedPorch', '3SsnPorch', 'ScreenPorch', 'WoodDeckSF', 'PoolArea',\n",
    "              'GarageType', 'SaleDate',\"MSZoning\"], axis=1)\n",
    "\n",
    "# You can continue with more feature engineering based on your analysis and requirements\n",
    "\n",
    "# Display the updated DataFrame\n",
    "print(data.head())\n"
   ]
  },
  {
   "cell_type": "code",
   "execution_count": 31,
   "metadata": {},
   "outputs": [],
   "source": [
    "data = pd.get_dummies(data,drop_first=True)"
   ]
  },
  {
   "cell_type": "code",
   "execution_count": 32,
   "metadata": {},
   "outputs": [
    {
     "data": {
      "text/plain": [
       "(1460, 217)"
      ]
     },
     "execution_count": 32,
     "metadata": {},
     "output_type": "execute_result"
    }
   ],
   "source": [
    "data.shape"
   ]
  },
  {
   "cell_type": "markdown",
   "metadata": {},
   "source": [
    "Splitting the Data into Training and Testing Sets"
   ]
  },
  {
   "cell_type": "code",
   "execution_count": 33,
   "metadata": {},
   "outputs": [],
   "source": [
    "from sklearn.model_selection import train_test_split\n",
    "\n",
    "# We specify this so that the train and test data set always have the same rows, respectively\n",
    "np.random.seed(0)\n",
    "df_train, df_test = train_test_split(data, train_size = 0.7, test_size = 0.3, random_state = 100)"
   ]
  },
  {
   "cell_type": "markdown",
   "metadata": {},
   "source": [
    "Rescaling the Data"
   ]
  },
  {
   "cell_type": "code",
   "execution_count": 34,
   "metadata": {},
   "outputs": [],
   "source": [
    "from sklearn.preprocessing import MinMaxScaler"
   ]
  },
  {
   "cell_type": "code",
   "execution_count": 35,
   "metadata": {},
   "outputs": [],
   "source": [
    "scaler = MinMaxScaler()"
   ]
  },
  {
   "cell_type": "code",
   "execution_count": 36,
   "metadata": {},
   "outputs": [
    {
     "name": "stdout",
     "output_type": "stream",
     "text": [
      "Index(['AgeAtSale', 'BedroomAbvGr', 'BsmtFinSF1', 'BsmtFinSF2', 'BsmtUnfSF',\n",
      "       'Electrical_Mix', 'ExterCond_Po', 'Exterior2nd_Other', 'Fireplaces',\n",
      "       'GarageArea', 'GarageCars', 'GarageYrBlt', 'GrLivArea', 'HasGarage',\n",
      "       'Id', 'KitchenAbvGr', 'LotArea', 'LotFrontage', 'LowQualFinSF',\n",
      "       'MSSubClass', 'MasVnrArea', 'MiscVal', 'MoSold', 'OverallCond',\n",
      "       'OverallQual', 'TotRmsAbvGrd', 'TotalBathrooms', 'TotalBsmtSF',\n",
      "       'TotalOutdoorSF', 'TotalPorchSF', 'TotalSF', 'YearRemodAdd'],\n",
      "      dtype='object')\n"
     ]
    }
   ],
   "source": [
    "import pandas as pd\n",
    "\n",
    "# Assuming 'df_train' is your DataFrame\n",
    "# Identify binary columns (yes-no variables)\n",
    "binary_columns = df_train.columns[df_train.nunique() == 2]\n",
    "\n",
    "# Identify categorical columns (excluding binary columns)\n",
    "categorical_columns = df_train.select_dtypes(include=['object']).columns.difference(binary_columns)\n",
    "\n",
    "# Identify numerical columns (excluding binary, categorical columns, and 'SalePrice')\n",
    "numerical_columns = df_train.select_dtypes(exclude=['object']).columns.difference(binary_columns).difference(categorical_columns).difference(['SalePrice'])\n",
    "\n",
    "# Print the final list of numerical columns\n",
    "print(numerical_columns)\n"
   ]
  },
  {
   "cell_type": "code",
   "execution_count": 37,
   "metadata": {},
   "outputs": [
    {
     "data": {
      "text/html": [
       "<div>\n",
       "<style scoped>\n",
       "    .dataframe tbody tr th:only-of-type {\n",
       "        vertical-align: middle;\n",
       "    }\n",
       "\n",
       "    .dataframe tbody tr th {\n",
       "        vertical-align: top;\n",
       "    }\n",
       "\n",
       "    .dataframe thead th {\n",
       "        text-align: right;\n",
       "    }\n",
       "</style>\n",
       "<table border=\"1\" class=\"dataframe\">\n",
       "  <thead>\n",
       "    <tr style=\"text-align: right;\">\n",
       "      <th></th>\n",
       "      <th>Id</th>\n",
       "      <th>MSSubClass</th>\n",
       "      <th>LotFrontage</th>\n",
       "      <th>LotArea</th>\n",
       "      <th>OverallQual</th>\n",
       "      <th>OverallCond</th>\n",
       "      <th>YearRemodAdd</th>\n",
       "      <th>MasVnrArea</th>\n",
       "      <th>BsmtFinSF1</th>\n",
       "      <th>BsmtFinSF2</th>\n",
       "      <th>...</th>\n",
       "      <th>SaleType_ConLI</th>\n",
       "      <th>SaleType_ConLw</th>\n",
       "      <th>SaleType_New</th>\n",
       "      <th>SaleType_Oth</th>\n",
       "      <th>SaleType_WD</th>\n",
       "      <th>SaleCondition_AdjLand</th>\n",
       "      <th>SaleCondition_Alloca</th>\n",
       "      <th>SaleCondition_Family</th>\n",
       "      <th>SaleCondition_Normal</th>\n",
       "      <th>SaleCondition_Partial</th>\n",
       "    </tr>\n",
       "  </thead>\n",
       "  <tbody>\n",
       "    <tr>\n",
       "      <th>210</th>\n",
       "      <td>0.143934</td>\n",
       "      <td>0.058824</td>\n",
       "      <td>0.157534</td>\n",
       "      <td>0.019306</td>\n",
       "      <td>0.444444</td>\n",
       "      <td>0.625</td>\n",
       "      <td>0.000000</td>\n",
       "      <td>0.00</td>\n",
       "      <td>0.082920</td>\n",
       "      <td>0.0</td>\n",
       "      <td>...</td>\n",
       "      <td>0</td>\n",
       "      <td>0</td>\n",
       "      <td>0</td>\n",
       "      <td>0</td>\n",
       "      <td>1</td>\n",
       "      <td>0</td>\n",
       "      <td>0</td>\n",
       "      <td>0</td>\n",
       "      <td>1</td>\n",
       "      <td>0</td>\n",
       "    </tr>\n",
       "    <tr>\n",
       "      <th>318</th>\n",
       "      <td>0.217958</td>\n",
       "      <td>0.235294</td>\n",
       "      <td>0.236301</td>\n",
       "      <td>0.039403</td>\n",
       "      <td>0.666667</td>\n",
       "      <td>0.500</td>\n",
       "      <td>0.716667</td>\n",
       "      <td>0.16</td>\n",
       "      <td>0.174876</td>\n",
       "      <td>0.0</td>\n",
       "      <td>...</td>\n",
       "      <td>0</td>\n",
       "      <td>0</td>\n",
       "      <td>0</td>\n",
       "      <td>0</td>\n",
       "      <td>1</td>\n",
       "      <td>0</td>\n",
       "      <td>0</td>\n",
       "      <td>0</td>\n",
       "      <td>1</td>\n",
       "      <td>0</td>\n",
       "    </tr>\n",
       "    <tr>\n",
       "      <th>239</th>\n",
       "      <td>0.163811</td>\n",
       "      <td>0.176471</td>\n",
       "      <td>0.106164</td>\n",
       "      <td>0.033981</td>\n",
       "      <td>0.555556</td>\n",
       "      <td>0.375</td>\n",
       "      <td>0.000000</td>\n",
       "      <td>0.00</td>\n",
       "      <td>0.016655</td>\n",
       "      <td>0.0</td>\n",
       "      <td>...</td>\n",
       "      <td>0</td>\n",
       "      <td>0</td>\n",
       "      <td>0</td>\n",
       "      <td>0</td>\n",
       "      <td>1</td>\n",
       "      <td>0</td>\n",
       "      <td>0</td>\n",
       "      <td>0</td>\n",
       "      <td>1</td>\n",
       "      <td>0</td>\n",
       "    </tr>\n",
       "    <tr>\n",
       "      <th>986</th>\n",
       "      <td>0.675805</td>\n",
       "      <td>0.176471</td>\n",
       "      <td>0.130137</td>\n",
       "      <td>0.017931</td>\n",
       "      <td>0.555556</td>\n",
       "      <td>0.875</td>\n",
       "      <td>0.883333</td>\n",
       "      <td>0.00</td>\n",
       "      <td>0.000000</td>\n",
       "      <td>0.0</td>\n",
       "      <td>...</td>\n",
       "      <td>0</td>\n",
       "      <td>0</td>\n",
       "      <td>0</td>\n",
       "      <td>0</td>\n",
       "      <td>1</td>\n",
       "      <td>0</td>\n",
       "      <td>0</td>\n",
       "      <td>0</td>\n",
       "      <td>1</td>\n",
       "      <td>0</td>\n",
       "    </tr>\n",
       "    <tr>\n",
       "      <th>1416</th>\n",
       "      <td>0.970528</td>\n",
       "      <td>1.000000</td>\n",
       "      <td>0.133562</td>\n",
       "      <td>0.046139</td>\n",
       "      <td>0.333333</td>\n",
       "      <td>0.625</td>\n",
       "      <td>0.000000</td>\n",
       "      <td>0.00</td>\n",
       "      <td>0.000000</td>\n",
       "      <td>0.0</td>\n",
       "      <td>...</td>\n",
       "      <td>0</td>\n",
       "      <td>0</td>\n",
       "      <td>0</td>\n",
       "      <td>0</td>\n",
       "      <td>1</td>\n",
       "      <td>0</td>\n",
       "      <td>0</td>\n",
       "      <td>0</td>\n",
       "      <td>1</td>\n",
       "      <td>0</td>\n",
       "    </tr>\n",
       "  </tbody>\n",
       "</table>\n",
       "<p>5 rows × 217 columns</p>\n",
       "</div>"
      ],
      "text/plain": [
       "            Id  MSSubClass  LotFrontage   LotArea  OverallQual  OverallCond  \\\n",
       "210   0.143934    0.058824     0.157534  0.019306     0.444444        0.625   \n",
       "318   0.217958    0.235294     0.236301  0.039403     0.666667        0.500   \n",
       "239   0.163811    0.176471     0.106164  0.033981     0.555556        0.375   \n",
       "986   0.675805    0.176471     0.130137  0.017931     0.555556        0.875   \n",
       "1416  0.970528    1.000000     0.133562  0.046139     0.333333        0.625   \n",
       "\n",
       "      YearRemodAdd  MasVnrArea  BsmtFinSF1  BsmtFinSF2  ...  SaleType_ConLI  \\\n",
       "210       0.000000        0.00    0.082920         0.0  ...               0   \n",
       "318       0.716667        0.16    0.174876         0.0  ...               0   \n",
       "239       0.000000        0.00    0.016655         0.0  ...               0   \n",
       "986       0.883333        0.00    0.000000         0.0  ...               0   \n",
       "1416      0.000000        0.00    0.000000         0.0  ...               0   \n",
       "\n",
       "      SaleType_ConLw  SaleType_New  SaleType_Oth  SaleType_WD  \\\n",
       "210                0             0             0            1   \n",
       "318                0             0             0            1   \n",
       "239                0             0             0            1   \n",
       "986                0             0             0            1   \n",
       "1416               0             0             0            1   \n",
       "\n",
       "      SaleCondition_AdjLand  SaleCondition_Alloca  SaleCondition_Family  \\\n",
       "210                       0                     0                     0   \n",
       "318                       0                     0                     0   \n",
       "239                       0                     0                     0   \n",
       "986                       0                     0                     0   \n",
       "1416                      0                     0                     0   \n",
       "\n",
       "      SaleCondition_Normal  SaleCondition_Partial  \n",
       "210                      1                      0  \n",
       "318                      1                      0  \n",
       "239                      1                      0  \n",
       "986                      1                      0  \n",
       "1416                     1                      0  \n",
       "\n",
       "[5 rows x 217 columns]"
      ]
     },
     "execution_count": 37,
     "metadata": {},
     "output_type": "execute_result"
    }
   ],
   "source": [
    "# Apply scaler() to all the columns except the 'yes-no' and 'dummy' variables\n",
    "df_train[numerical_columns] = scaler.fit_transform(df_train[numerical_columns])\n",
    "\n",
    "df_train.head()"
   ]
  },
  {
   "cell_type": "markdown",
   "metadata": {},
   "source": [
    "Dividing into X and Y sets for the model building"
   ]
  },
  {
   "cell_type": "code",
   "execution_count": 38,
   "metadata": {},
   "outputs": [],
   "source": [
    "y_train = df_train.pop('SalePrice')\n",
    "X_train = df_train"
   ]
  },
  {
   "cell_type": "markdown",
   "metadata": {},
   "source": [
    "Building our model\n",
    "This time, we will be using the LinearRegression function from SciKit Learn for its compatibility with RFE (which is a utility from sklearn)"
   ]
  },
  {
   "cell_type": "markdown",
   "metadata": {},
   "source": [
    "RFE\n",
    "Recursive feature elimination"
   ]
  },
  {
   "cell_type": "code",
   "execution_count": 39,
   "metadata": {},
   "outputs": [],
   "source": [
    "from sklearn.feature_selection import RFE\n",
    "from sklearn.linear_model import LinearRegression\n",
    "\n",
    "# Assuming X_train and y_train are your feature and target matrices\n",
    "lm = LinearRegression()\n",
    "\n",
    "# Specify the number of features to select (e.g., 10)\n",
    "num_features_to_select = 10\n",
    "\n",
    "rfe = RFE(estimator=lm, n_features_to_select=num_features_to_select)  # Corrected\n",
    "rfe = rfe.fit(X_train, y_train)\n"
   ]
  },
  {
   "cell_type": "code",
   "execution_count": 40,
   "metadata": {},
   "outputs": [
    {
     "data": {
      "text/plain": [
       "[('Id', False, 195),\n",
       " ('MSSubClass', False, 157),\n",
       " ('LotFrontage', False, 6),\n",
       " ('LotArea', False, 8),\n",
       " ('OverallQual', False, 2),\n",
       " ('OverallCond', False, 11),\n",
       " ('YearRemodAdd', False, 78),\n",
       " ('MasVnrArea', False, 59),\n",
       " ('BsmtFinSF1', False, 3),\n",
       " ('BsmtFinSF2', False, 39),\n",
       " ('BsmtUnfSF', False, 43),\n",
       " ('TotalBsmtSF', True, 1),\n",
       " ('LowQualFinSF', False, 26),\n",
       " ('GrLivArea', False, 19),\n",
       " ('BedroomAbvGr', False, 7),\n",
       " ('KitchenAbvGr', False, 14),\n",
       " ('TotRmsAbvGrd', False, 72),\n",
       " ('Fireplaces', False, 185),\n",
       " ('GarageYrBlt', False, 57),\n",
       " ('GarageCars', False, 56),\n",
       " ('GarageArea', False, 203),\n",
       " ('MiscVal', False, 81),\n",
       " ('MoSold', False, 187),\n",
       " ('TotalSF', True, 1),\n",
       " ('AgeAtSale', False, 10),\n",
       " ('TotalBathrooms', False, 126),\n",
       " ('TotalPorchSF', False, 204),\n",
       " ('HasGarage', False, 48),\n",
       " ('TotalOutdoorSF', False, 124),\n",
       " ('Street_Pave', False, 24),\n",
       " ('LotShape_IR2', False, 166),\n",
       " ('LotShape_IR3', False, 138),\n",
       " ('LotShape_Reg', False, 197),\n",
       " ('LandContour_HLS', False, 137),\n",
       " ('LandContour_Low', False, 142),\n",
       " ('LandContour_Lvl', False, 109),\n",
       " ('Utilities_NoSeWa', False, 127),\n",
       " ('LotConfig_CulDSac', False, 95),\n",
       " ('LotConfig_FR2', False, 136),\n",
       " ('LotConfig_FR3', False, 79),\n",
       " ('LotConfig_Inside', False, 201),\n",
       " ('LandSlope_Mod', False, 191),\n",
       " ('LandSlope_Sev', False, 75),\n",
       " ('Neighborhood_Blueste', False, 156),\n",
       " ('Neighborhood_BrDale', False, 84),\n",
       " ('Neighborhood_BrkSide', False, 144),\n",
       " ('Neighborhood_ClearCr', False, 94),\n",
       " ('Neighborhood_CollgCr', False, 89),\n",
       " ('Neighborhood_Crawfor', False, 31),\n",
       " ('Neighborhood_Edwards', False, 90),\n",
       " ('Neighborhood_Gilbert', False, 86),\n",
       " ('Neighborhood_IDOTRR', False, 173),\n",
       " ('Neighborhood_MeadowV', False, 121),\n",
       " ('Neighborhood_Mitchel', False, 76),\n",
       " ('Neighborhood_NAmes', False, 88),\n",
       " ('Neighborhood_NPkVill', False, 66),\n",
       " ('Neighborhood_NWAmes', False, 87),\n",
       " ('Neighborhood_NoRidge', False, 23),\n",
       " ('Neighborhood_NridgHt', False, 205),\n",
       " ('Neighborhood_OldTown', False, 207),\n",
       " ('Neighborhood_SWISU', False, 108),\n",
       " ('Neighborhood_Sawyer', False, 93),\n",
       " ('Neighborhood_SawyerW', False, 100),\n",
       " ('Neighborhood_Somerst', False, 163),\n",
       " ('Neighborhood_StoneBr', False, 55),\n",
       " ('Neighborhood_Timber', False, 69),\n",
       " ('Neighborhood_Veenker', False, 182),\n",
       " ('Condition1_Feedr', False, 141),\n",
       " ('Condition1_Norm', False, 80),\n",
       " ('Condition1_PosA', False, 139),\n",
       " ('Condition1_PosN', False, 140),\n",
       " ('Condition1_RRAe', False, 61),\n",
       " ('Condition1_RRAn', False, 112),\n",
       " ('Condition1_RRNe', False, 188),\n",
       " ('Condition1_RRNn', False, 146),\n",
       " ('Condition2_Feedr', False, 98),\n",
       " ('Condition2_Norm', False, 107),\n",
       " ('Condition2_PosA', False, 62),\n",
       " ('Condition2_PosN', True, 1),\n",
       " ('Condition2_RRAe', False, 9),\n",
       " ('Condition2_RRAn', False, 54),\n",
       " ('Condition2_RRNn', False, 160),\n",
       " ('BldgType_2fmCon', False, 113),\n",
       " ('BldgType_Duplex', False, 114),\n",
       " ('BldgType_Twnhs', False, 63),\n",
       " ('BldgType_TwnhsE', False, 65),\n",
       " ('HouseStyle_1.5Unf', False, 132),\n",
       " ('HouseStyle_1Story', False, 111),\n",
       " ('HouseStyle_2.5Fin', False, 58),\n",
       " ('HouseStyle_2.5Unf', False, 123),\n",
       " ('HouseStyle_2Story', False, 165),\n",
       " ('HouseStyle_SFoyer', False, 110),\n",
       " ('HouseStyle_SLvl', False, 189),\n",
       " ('RoofStyle_Gable', False, 92),\n",
       " ('RoofStyle_Gambrel', False, 192),\n",
       " ('RoofStyle_Hip', False, 91),\n",
       " ('RoofStyle_Mansard', False, 190),\n",
       " ('RoofStyle_Shed', False, 12),\n",
       " ('RoofMatl_CompShg', True, 1),\n",
       " ('RoofMatl_Membran', True, 1),\n",
       " ('RoofMatl_Metal', True, 1),\n",
       " ('RoofMatl_Roll', True, 1),\n",
       " ('RoofMatl_Tar&Grv', True, 1),\n",
       " ('RoofMatl_WdShake', True, 1),\n",
       " ('RoofMatl_WdShngl', True, 1),\n",
       " ('Exterior1st_AsphShn', False, 44),\n",
       " ('Exterior1st_BrkComm', False, 120),\n",
       " ('Exterior1st_BrkFace', False, 60),\n",
       " ('Exterior1st_CBlock', False, 28),\n",
       " ('Exterior1st_CemntBd', False, 71),\n",
       " ('Exterior1st_HdBoard', False, 116),\n",
       " ('Exterior1st_ImStucc', False, 25),\n",
       " ('Exterior1st_MetalSd', False, 133),\n",
       " ('Exterior1st_Plywood', False, 68),\n",
       " ('Exterior1st_Stone', False, 73),\n",
       " ('Exterior1st_Stucco', False, 150),\n",
       " ('Exterior1st_VinylSd', False, 200),\n",
       " ('Exterior1st_Wd Sdng', False, 149),\n",
       " ('Exterior1st_WdShing', False, 193),\n",
       " ('Exterior2nd_AsphShn', False, 47),\n",
       " ('Exterior2nd_Brk Cmn', False, 122),\n",
       " ('Exterior2nd_BrkFace', False, 154),\n",
       " ('Exterior2nd_CBlock', False, 27),\n",
       " ('Exterior2nd_CmentBd', False, 70),\n",
       " ('Exterior2nd_HdBoard', False, 117),\n",
       " ('Exterior2nd_ImStucc', False, 64),\n",
       " ('Exterior2nd_MetalSd', False, 131),\n",
       " ('Exterior2nd_Other', False, 50),\n",
       " ('Exterior2nd_Plywood', False, 125),\n",
       " ('Exterior2nd_Stone', False, 82),\n",
       " ('Exterior2nd_Stucco', False, 96),\n",
       " ('Exterior2nd_VinylSd', False, 170),\n",
       " ('Exterior2nd_Wd Sdng', False, 155),\n",
       " ('Exterior2nd_Wd Shng', False, 194),\n",
       " ('MasVnrType_BrkFace', False, 101),\n",
       " ('MasVnrType_None', False, 177),\n",
       " ('MasVnrType_Stone', False, 176),\n",
       " ('ExterQual_Fa', False, 198),\n",
       " ('ExterQual_Gd', False, 30),\n",
       " ('ExterQual_TA', False, 29),\n",
       " ('ExterCond_Fa', False, 130),\n",
       " ('ExterCond_Gd', False, 128),\n",
       " ('ExterCond_Po', False, 49),\n",
       " ('ExterCond_TA', False, 129),\n",
       " ('Foundation_CBlock', False, 179),\n",
       " ('Foundation_PConc', False, 178),\n",
       " ('Foundation_Slab', False, 180),\n",
       " ('Foundation_Stone', False, 32),\n",
       " ('Foundation_Wood', False, 77),\n",
       " ('BsmtQual_Fa', False, 17),\n",
       " ('BsmtQual_Gd', False, 15),\n",
       " ('BsmtQual_TA', False, 16),\n",
       " ('BsmtCond_Gd', False, 135),\n",
       " ('BsmtCond_Po', False, 74),\n",
       " ('BsmtCond_TA', False, 186),\n",
       " ('BsmtExposure_Gd', False, 53),\n",
       " ('BsmtExposure_Mn', False, 172),\n",
       " ('BsmtExposure_No', False, 158),\n",
       " ('BsmtFinType1_BLQ', False, 181),\n",
       " ('BsmtFinType1_GLQ', False, 145),\n",
       " ('BsmtFinType1_LwQ', False, 161),\n",
       " ('BsmtFinType1_Rec', False, 159),\n",
       " ('BsmtFinType1_Unf', False, 147),\n",
       " ('BsmtFinType2_BLQ', False, 105),\n",
       " ('BsmtFinType2_GLQ', False, 134),\n",
       " ('BsmtFinType2_LwQ', False, 115),\n",
       " ('BsmtFinType2_Rec', False, 118),\n",
       " ('BsmtFinType2_Unf', False, 119),\n",
       " ('Heating_GasA', False, 162),\n",
       " ('Heating_GasW', False, 85),\n",
       " ('Heating_Grav', False, 152),\n",
       " ('Heating_OthW', False, 4),\n",
       " ('Heating_Wall', False, 13),\n",
       " ('HeatingQC_Fa', False, 153),\n",
       " ('HeatingQC_Gd', False, 168),\n",
       " ('HeatingQC_Po', False, 202),\n",
       " ('HeatingQC_TA', False, 169),\n",
       " ('CentralAir_Y', False, 196),\n",
       " ('Electrical_FuseF', False, 151),\n",
       " ('Electrical_FuseP', False, 206),\n",
       " ('Electrical_Mix', False, 174),\n",
       " ('Electrical_SBrkr', False, 199),\n",
       " ('KitchenQual_Fa', False, 21),\n",
       " ('KitchenQual_Gd', False, 22),\n",
       " ('KitchenQual_TA', False, 20),\n",
       " ('Functional_Maj2', False, 83),\n",
       " ('Functional_Min1', False, 52),\n",
       " ('Functional_Min2', False, 51),\n",
       " ('Functional_Mod', False, 164),\n",
       " ('Functional_Sev', False, 5),\n",
       " ('Functional_Typ', False, 35),\n",
       " ('GarageFinish_RFn', False, 183),\n",
       " ('GarageFinish_Unf', False, 148),\n",
       " ('GarageQual_Fa', False, 42),\n",
       " ('GarageQual_Gd', False, 37),\n",
       " ('GarageQual_Po', False, 33),\n",
       " ('GarageQual_TA', False, 46),\n",
       " ('GarageCond_Fa', False, 40),\n",
       " ('GarageCond_Gd', False, 36),\n",
       " ('GarageCond_Po', False, 41),\n",
       " ('GarageCond_TA', False, 45),\n",
       " ('PavedDrive_P', False, 171),\n",
       " ('PavedDrive_Y', False, 184),\n",
       " ('SaleType_CWD', False, 106),\n",
       " ('SaleType_Con', False, 18),\n",
       " ('SaleType_ConLD', False, 99),\n",
       " ('SaleType_ConLI', False, 167),\n",
       " ('SaleType_ConLw', False, 102),\n",
       " ('SaleType_New', False, 38),\n",
       " ('SaleType_Oth', False, 97),\n",
       " ('SaleType_WD', False, 103),\n",
       " ('SaleCondition_AdjLand', False, 67),\n",
       " ('SaleCondition_Alloca', False, 104),\n",
       " ('SaleCondition_Family', False, 175),\n",
       " ('SaleCondition_Normal', False, 143),\n",
       " ('SaleCondition_Partial', False, 34)]"
      ]
     },
     "execution_count": 40,
     "metadata": {},
     "output_type": "execute_result"
    }
   ],
   "source": [
    "list(zip(X_train.columns,rfe.support_,rfe.ranking_))"
   ]
  },
  {
   "cell_type": "code",
   "execution_count": 41,
   "metadata": {},
   "outputs": [
    {
     "data": {
      "text/plain": [
       "Index(['TotalBsmtSF', 'TotalSF', 'Condition2_PosN', 'RoofMatl_CompShg',\n",
       "       'RoofMatl_Membran', 'RoofMatl_Metal', 'RoofMatl_Roll',\n",
       "       'RoofMatl_Tar&Grv', 'RoofMatl_WdShake', 'RoofMatl_WdShngl'],\n",
       "      dtype='object')"
      ]
     },
     "execution_count": 41,
     "metadata": {},
     "output_type": "execute_result"
    }
   ],
   "source": [
    "col = X_train.columns[rfe.support_]\n",
    "col"
   ]
  },
  {
   "cell_type": "code",
   "execution_count": 42,
   "metadata": {},
   "outputs": [
    {
     "data": {
      "text/plain": [
       "Index(['Id', 'MSSubClass', 'LotFrontage', 'LotArea', 'OverallQual',\n",
       "       'OverallCond', 'YearRemodAdd', 'MasVnrArea', 'BsmtFinSF1', 'BsmtFinSF2',\n",
       "       ...\n",
       "       'SaleType_ConLI', 'SaleType_ConLw', 'SaleType_New', 'SaleType_Oth',\n",
       "       'SaleType_WD', 'SaleCondition_AdjLand', 'SaleCondition_Alloca',\n",
       "       'SaleCondition_Family', 'SaleCondition_Normal',\n",
       "       'SaleCondition_Partial'],\n",
       "      dtype='object', length=206)"
      ]
     },
     "execution_count": 42,
     "metadata": {},
     "output_type": "execute_result"
    }
   ],
   "source": [
    "X_train.columns[~rfe.support_]"
   ]
  },
  {
   "cell_type": "markdown",
   "metadata": {},
   "source": [
    "Building model using statsmodel, for the detailed statistics"
   ]
  },
  {
   "cell_type": "code",
   "execution_count": 43,
   "metadata": {},
   "outputs": [],
   "source": [
    "# Creating X_test dataframe with RFE selected variables\n",
    "X_train_rfe = X_train[col]"
   ]
  },
  {
   "cell_type": "code",
   "execution_count": 44,
   "metadata": {},
   "outputs": [],
   "source": [
    "# Adding a constant variable \n",
    "import statsmodels.api as sm  \n",
    "X_train_rfe = sm.add_constant(X_train_rfe)"
   ]
  },
  {
   "cell_type": "code",
   "execution_count": 45,
   "metadata": {},
   "outputs": [],
   "source": [
    "lm = sm.OLS(y_train,X_train_rfe).fit()   # Running the linear model"
   ]
  },
  {
   "cell_type": "code",
   "execution_count": 46,
   "metadata": {},
   "outputs": [
    {
     "name": "stdout",
     "output_type": "stream",
     "text": [
      "                            OLS Regression Results                            \n",
      "==============================================================================\n",
      "Dep. Variable:              SalePrice   R-squared:                       0.715\n",
      "Model:                            OLS   Adj. R-squared:                  0.712\n",
      "Method:                 Least Squares   F-statistic:                     252.8\n",
      "Date:                Wed, 10 Jan 2024   Prob (F-statistic):          8.56e-267\n",
      "Time:                        20:45:13   Log-Likelihood:                -12324.\n",
      "No. Observations:                1021   AIC:                         2.467e+04\n",
      "Df Residuals:                    1010   BIC:                         2.472e+04\n",
      "Df Model:                          10                                         \n",
      "Covariance Type:            nonrobust                                         \n",
      "====================================================================================\n",
      "                       coef    std err          t      P>|t|      [0.025      0.975]\n",
      "------------------------------------------------------------------------------------\n",
      "const            -7.812e+05   4.71e+04    -16.596      0.000   -8.74e+05   -6.89e+05\n",
      "TotalBsmtSF       4.777e+05    2.1e+04     22.736      0.000    4.36e+05    5.19e+05\n",
      "TotalSF           4.636e+05   1.52e+04     30.458      0.000    4.34e+05    4.93e+05\n",
      "Condition2_PosN  -4.409e+05   4.35e+04    -10.145      0.000   -5.26e+05   -3.56e+05\n",
      "RoofMatl_CompShg  7.841e+05   4.56e+04     17.180      0.000    6.95e+05    8.74e+05\n",
      "RoofMatl_Membran  8.321e+05   6.21e+04     13.389      0.000     7.1e+05    9.54e+05\n",
      "RoofMatl_Metal    8.389e+05   6.25e+04     13.414      0.000    7.16e+05    9.62e+05\n",
      "RoofMatl_Roll     7.137e+05   6.23e+04     11.450      0.000    5.91e+05    8.36e+05\n",
      "RoofMatl_Tar&Grv  7.632e+05   4.88e+04     15.626      0.000    6.67e+05    8.59e+05\n",
      "RoofMatl_WdShake  7.701e+05   5.01e+04     15.375      0.000    6.72e+05    8.68e+05\n",
      "RoofMatl_WdShngl  8.779e+05   4.95e+04     17.719      0.000    7.81e+05    9.75e+05\n",
      "==============================================================================\n",
      "Omnibus:                       78.292   Durbin-Watson:                   1.981\n",
      "Prob(Omnibus):                  0.000   Jarque-Bera (JB):              371.060\n",
      "Skew:                           0.124   Prob(JB):                     2.66e-81\n",
      "Kurtosis:                       5.943   Cond. No.                         143.\n",
      "==============================================================================\n",
      "\n",
      "Notes:\n",
      "[1] Standard Errors assume that the covariance matrix of the errors is correctly specified.\n"
     ]
    }
   ],
   "source": [
    "#Let's see the summary of our linear model\n",
    "print(lm.summary())"
   ]
  },
  {
   "cell_type": "code",
   "execution_count": 47,
   "metadata": {},
   "outputs": [
    {
     "data": {
      "text/html": [
       "<div>\n",
       "<style scoped>\n",
       "    .dataframe tbody tr th:only-of-type {\n",
       "        vertical-align: middle;\n",
       "    }\n",
       "\n",
       "    .dataframe tbody tr th {\n",
       "        vertical-align: top;\n",
       "    }\n",
       "\n",
       "    .dataframe thead th {\n",
       "        text-align: right;\n",
       "    }\n",
       "</style>\n",
       "<table border=\"1\" class=\"dataframe\">\n",
       "  <thead>\n",
       "    <tr style=\"text-align: right;\">\n",
       "      <th></th>\n",
       "      <th>Features</th>\n",
       "      <th>VIF</th>\n",
       "    </tr>\n",
       "  </thead>\n",
       "  <tbody>\n",
       "    <tr>\n",
       "      <th>0</th>\n",
       "      <td>const</td>\n",
       "      <td>1254.42</td>\n",
       "    </tr>\n",
       "    <tr>\n",
       "      <th>4</th>\n",
       "      <td>RoofMatl_CompShg</td>\n",
       "      <td>20.42</td>\n",
       "    </tr>\n",
       "    <tr>\n",
       "      <th>8</th>\n",
       "      <td>RoofMatl_Tar&amp;Grv</td>\n",
       "      <td>7.89</td>\n",
       "    </tr>\n",
       "    <tr>\n",
       "      <th>9</th>\n",
       "      <td>RoofMatl_WdShake</td>\n",
       "      <td>5.54</td>\n",
       "    </tr>\n",
       "    <tr>\n",
       "      <th>10</th>\n",
       "      <td>RoofMatl_WdShngl</td>\n",
       "      <td>5.42</td>\n",
       "    </tr>\n",
       "    <tr>\n",
       "      <th>6</th>\n",
       "      <td>RoofMatl_Metal</td>\n",
       "      <td>2.17</td>\n",
       "    </tr>\n",
       "    <tr>\n",
       "      <th>7</th>\n",
       "      <td>RoofMatl_Roll</td>\n",
       "      <td>2.15</td>\n",
       "    </tr>\n",
       "    <tr>\n",
       "      <th>5</th>\n",
       "      <td>RoofMatl_Membran</td>\n",
       "      <td>2.14</td>\n",
       "    </tr>\n",
       "    <tr>\n",
       "      <th>1</th>\n",
       "      <td>TotalBsmtSF</td>\n",
       "      <td>1.41</td>\n",
       "    </tr>\n",
       "    <tr>\n",
       "      <th>2</th>\n",
       "      <td>TotalSF</td>\n",
       "      <td>1.36</td>\n",
       "    </tr>\n",
       "    <tr>\n",
       "      <th>3</th>\n",
       "      <td>Condition2_PosN</td>\n",
       "      <td>1.05</td>\n",
       "    </tr>\n",
       "  </tbody>\n",
       "</table>\n",
       "</div>"
      ],
      "text/plain": [
       "            Features      VIF\n",
       "0              const  1254.42\n",
       "4   RoofMatl_CompShg    20.42\n",
       "8   RoofMatl_Tar&Grv     7.89\n",
       "9   RoofMatl_WdShake     5.54\n",
       "10  RoofMatl_WdShngl     5.42\n",
       "6     RoofMatl_Metal     2.17\n",
       "7      RoofMatl_Roll     2.15\n",
       "5   RoofMatl_Membran     2.14\n",
       "1        TotalBsmtSF     1.41\n",
       "2            TotalSF     1.36\n",
       "3    Condition2_PosN     1.05"
      ]
     },
     "execution_count": 47,
     "metadata": {},
     "output_type": "execute_result"
    }
   ],
   "source": [
    "# Calculate the VIFs for the new model\n",
    "from statsmodels.stats.outliers_influence import variance_inflation_factor\n",
    "\n",
    "vif = pd.DataFrame()\n",
    "X = X_train_rfe\n",
    "vif['Features'] = X.columns\n",
    "vif['VIF'] = [variance_inflation_factor(X.values, i) for i in range(X.shape[1])]\n",
    "vif['VIF'] = round(vif['VIF'], 2)\n",
    "vif = vif.sort_values(by = \"VIF\", ascending = False)\n",
    "vif"
   ]
  },
  {
   "cell_type": "code",
   "execution_count": 48,
   "metadata": {},
   "outputs": [],
   "source": [
    "# List of column names to be dropped\n",
    "columns_to_drop = ['RoofMatl_CompShg', 'RoofMatl_Tar&Grv', 'RoofMatl_WdShake', 'RoofMatl_WdShngl']\n",
    "\n",
    "# Drop the specified columns from your DataFrame\n",
    "X = X.drop(columns=columns_to_drop, axis=1)\n",
    "\n",
    "\n"
   ]
  },
  {
   "cell_type": "code",
   "execution_count": 49,
   "metadata": {},
   "outputs": [
    {
     "name": "stdout",
     "output_type": "stream",
     "text": [
      "                            OLS Regression Results                            \n",
      "==============================================================================\n",
      "Dep. Variable:              SalePrice   R-squared:                       0.623\n",
      "Model:                            OLS   Adj. R-squared:                  0.621\n",
      "Method:                 Least Squares   F-statistic:                     279.4\n",
      "Date:                Wed, 10 Jan 2024   Prob (F-statistic):          6.92e-211\n",
      "Time:                        20:45:13   Log-Likelihood:                -12465.\n",
      "No. Observations:                1021   AIC:                         2.494e+04\n",
      "Df Residuals:                    1014   BIC:                         2.498e+04\n",
      "Df Model:                           6                                         \n",
      "Covariance Type:            nonrobust                                         \n",
      "====================================================================================\n",
      "                       coef    std err          t      P>|t|      [0.025      0.975]\n",
      "------------------------------------------------------------------------------------\n",
      "const             2.335e+04   4224.811      5.526      0.000    1.51e+04    3.16e+04\n",
      "TotalBsmtSF       3.868e+05   2.31e+04     16.745      0.000    3.41e+05    4.32e+05\n",
      "TotalSF           4.376e+05   1.72e+04     25.430      0.000    4.04e+05    4.71e+05\n",
      "Condition2_PosN  -3.936e+05   4.97e+04     -7.921      0.000   -4.91e+05   -2.96e+05\n",
      "RoofMatl_Membran  5.269e+04   4.87e+04      1.081      0.280    -4.3e+04    1.48e+05\n",
      "RoofMatl_Metal    5.102e+04   4.87e+04      1.047      0.296   -4.46e+04    1.47e+05\n",
      "RoofMatl_Roll    -6.972e+04   4.88e+04     -1.430      0.153   -1.65e+05    2.59e+04\n",
      "==============================================================================\n",
      "Omnibus:                      685.136   Durbin-Watson:                   2.046\n",
      "Prob(Omnibus):                  0.000   Jarque-Bera (JB):            73612.356\n",
      "Skew:                          -2.194   Prob(JB):                         0.00\n",
      "Kurtosis:                      44.366   Cond. No.                         33.9\n",
      "==============================================================================\n",
      "\n",
      "Notes:\n",
      "[1] Standard Errors assume that the covariance matrix of the errors is correctly specified.\n"
     ]
    }
   ],
   "source": [
    "# Adding a constant variable \n",
    "import statsmodels.api as sm  \n",
    "X_train_rfe = sm.add_constant(X)\n",
    "lm = sm.OLS(y_train,X_train_rfe).fit()   # Running the linear model\n",
    "#Let's see the summary of our linear model\n",
    "print(lm.summary())\n"
   ]
  },
  {
   "cell_type": "code",
   "execution_count": 50,
   "metadata": {},
   "outputs": [
    {
     "data": {
      "text/html": [
       "<div>\n",
       "<style scoped>\n",
       "    .dataframe tbody tr th:only-of-type {\n",
       "        vertical-align: middle;\n",
       "    }\n",
       "\n",
       "    .dataframe tbody tr th {\n",
       "        vertical-align: top;\n",
       "    }\n",
       "\n",
       "    .dataframe thead th {\n",
       "        text-align: right;\n",
       "    }\n",
       "</style>\n",
       "<table border=\"1\" class=\"dataframe\">\n",
       "  <thead>\n",
       "    <tr style=\"text-align: right;\">\n",
       "      <th></th>\n",
       "      <th>Features</th>\n",
       "      <th>VIF</th>\n",
       "    </tr>\n",
       "  </thead>\n",
       "  <tbody>\n",
       "    <tr>\n",
       "      <th>0</th>\n",
       "      <td>const</td>\n",
       "      <td>7.68</td>\n",
       "    </tr>\n",
       "    <tr>\n",
       "      <th>2</th>\n",
       "      <td>TotalSF</td>\n",
       "      <td>1.32</td>\n",
       "    </tr>\n",
       "    <tr>\n",
       "      <th>1</th>\n",
       "      <td>TotalBsmtSF</td>\n",
       "      <td>1.30</td>\n",
       "    </tr>\n",
       "    <tr>\n",
       "      <th>3</th>\n",
       "      <td>Condition2_PosN</td>\n",
       "      <td>1.04</td>\n",
       "    </tr>\n",
       "    <tr>\n",
       "      <th>4</th>\n",
       "      <td>RoofMatl_Membran</td>\n",
       "      <td>1.00</td>\n",
       "    </tr>\n",
       "    <tr>\n",
       "      <th>5</th>\n",
       "      <td>RoofMatl_Metal</td>\n",
       "      <td>1.00</td>\n",
       "    </tr>\n",
       "    <tr>\n",
       "      <th>6</th>\n",
       "      <td>RoofMatl_Roll</td>\n",
       "      <td>1.00</td>\n",
       "    </tr>\n",
       "  </tbody>\n",
       "</table>\n",
       "</div>"
      ],
      "text/plain": [
       "           Features   VIF\n",
       "0             const  7.68\n",
       "2           TotalSF  1.32\n",
       "1       TotalBsmtSF  1.30\n",
       "3   Condition2_PosN  1.04\n",
       "4  RoofMatl_Membran  1.00\n",
       "5    RoofMatl_Metal  1.00\n",
       "6     RoofMatl_Roll  1.00"
      ]
     },
     "execution_count": 50,
     "metadata": {},
     "output_type": "execute_result"
    }
   ],
   "source": [
    "# Calculate the VIFs for the new model\n",
    "from statsmodels.stats.outliers_influence import variance_inflation_factor\n",
    "\n",
    "vif = pd.DataFrame()\n",
    "X = X\n",
    "vif['Features'] = X.columns\n",
    "vif['VIF'] = [variance_inflation_factor(X.values, i) for i in range(X.shape[1])]\n",
    "vif['VIF'] = round(vif['VIF'], 2)\n",
    "vif = vif.sort_values(by = \"VIF\", ascending = False)\n",
    "vif"
   ]
  },
  {
   "cell_type": "code",
   "execution_count": 51,
   "metadata": {},
   "outputs": [],
   "source": [
    "# List of column names to be dropped\n",
    "columns_to_drop = ['RoofMatl_Membran', 'RoofMatl_Metal', 'RoofMatl_Roll']\n",
    "\n",
    "# Drop the specified columns from your DataFrame\n",
    "X = X.drop(columns=columns_to_drop, axis=1)"
   ]
  },
  {
   "cell_type": "code",
   "execution_count": 52,
   "metadata": {},
   "outputs": [
    {
     "name": "stdout",
     "output_type": "stream",
     "text": [
      "                            OLS Regression Results                            \n",
      "==============================================================================\n",
      "Dep. Variable:              SalePrice   R-squared:                       0.622\n",
      "Model:                            OLS   Adj. R-squared:                  0.620\n",
      "Method:                 Least Squares   F-statistic:                     556.7\n",
      "Date:                Wed, 10 Jan 2024   Prob (F-statistic):          5.51e-214\n",
      "Time:                        20:45:13   Log-Likelihood:                -12467.\n",
      "No. Observations:                1021   AIC:                         2.494e+04\n",
      "Df Residuals:                    1017   BIC:                         2.496e+04\n",
      "Df Model:                           3                                         \n",
      "Covariance Type:            nonrobust                                         \n",
      "===================================================================================\n",
      "                      coef    std err          t      P>|t|      [0.025      0.975]\n",
      "-----------------------------------------------------------------------------------\n",
      "const            2.345e+04   4225.445      5.550      0.000    1.52e+04    3.17e+04\n",
      "TotalBsmtSF      3.885e+05   2.31e+04     16.819      0.000    3.43e+05    4.34e+05\n",
      "TotalSF          4.358e+05   1.72e+04     25.343      0.000    4.02e+05     4.7e+05\n",
      "Condition2_PosN -3.932e+05   4.97e+04     -7.906      0.000   -4.91e+05   -2.96e+05\n",
      "==============================================================================\n",
      "Omnibus:                      681.577   Durbin-Watson:                   2.046\n",
      "Prob(Omnibus):                  0.000   Jarque-Bera (JB):            72362.839\n",
      "Skew:                          -2.178   Prob(JB):                         0.00\n",
      "Kurtosis:                      44.012   Cond. No.                         33.8\n",
      "==============================================================================\n",
      "\n",
      "Notes:\n",
      "[1] Standard Errors assume that the covariance matrix of the errors is correctly specified.\n"
     ]
    }
   ],
   "source": [
    "# Adding a constant variable \n",
    "import statsmodels.api as sm  \n",
    "X_train_rfe = sm.add_constant(X)\n",
    "lm = sm.OLS(y_train,X_train_rfe).fit()   # Running the linear model\n",
    "#Let's see the summary of our linear model\n",
    "print(lm.summary())"
   ]
  },
  {
   "cell_type": "code",
   "execution_count": 53,
   "metadata": {},
   "outputs": [
    {
     "data": {
      "text/html": [
       "<div>\n",
       "<style scoped>\n",
       "    .dataframe tbody tr th:only-of-type {\n",
       "        vertical-align: middle;\n",
       "    }\n",
       "\n",
       "    .dataframe tbody tr th {\n",
       "        vertical-align: top;\n",
       "    }\n",
       "\n",
       "    .dataframe thead th {\n",
       "        text-align: right;\n",
       "    }\n",
       "</style>\n",
       "<table border=\"1\" class=\"dataframe\">\n",
       "  <thead>\n",
       "    <tr style=\"text-align: right;\">\n",
       "      <th></th>\n",
       "      <th>Features</th>\n",
       "      <th>VIF</th>\n",
       "    </tr>\n",
       "  </thead>\n",
       "  <tbody>\n",
       "    <tr>\n",
       "      <th>0</th>\n",
       "      <td>const</td>\n",
       "      <td>7.68</td>\n",
       "    </tr>\n",
       "    <tr>\n",
       "      <th>2</th>\n",
       "      <td>TotalSF</td>\n",
       "      <td>1.31</td>\n",
       "    </tr>\n",
       "    <tr>\n",
       "      <th>1</th>\n",
       "      <td>TotalBsmtSF</td>\n",
       "      <td>1.29</td>\n",
       "    </tr>\n",
       "    <tr>\n",
       "      <th>3</th>\n",
       "      <td>Condition2_PosN</td>\n",
       "      <td>1.04</td>\n",
       "    </tr>\n",
       "  </tbody>\n",
       "</table>\n",
       "</div>"
      ],
      "text/plain": [
       "          Features   VIF\n",
       "0            const  7.68\n",
       "2          TotalSF  1.31\n",
       "1      TotalBsmtSF  1.29\n",
       "3  Condition2_PosN  1.04"
      ]
     },
     "execution_count": 53,
     "metadata": {},
     "output_type": "execute_result"
    }
   ],
   "source": [
    "# Calculate the VIFs for the new model\n",
    "from statsmodels.stats.outliers_influence import variance_inflation_factor\n",
    "\n",
    "vif = pd.DataFrame()\n",
    "X = X\n",
    "vif['Features'] = X.columns\n",
    "vif['VIF'] = [variance_inflation_factor(X.values, i) for i in range(X.shape[1])]\n",
    "vif['VIF'] = round(vif['VIF'], 2)\n",
    "vif = vif.sort_values(by = \"VIF\", ascending = False)\n",
    "vif"
   ]
  },
  {
   "cell_type": "markdown",
   "metadata": {},
   "source": [
    "Residual Analysis of the train data\n",
    "So, now to check if the error terms are also normally distributed (which is infact, one of the major assumptions of linear regression), let us plot the histogram of the error terms and see what it looks like."
   ]
  },
  {
   "cell_type": "code",
   "execution_count": 54,
   "metadata": {},
   "outputs": [],
   "source": [
    "y_train_price = lm.predict(X)"
   ]
  },
  {
   "cell_type": "code",
   "execution_count": 55,
   "metadata": {},
   "outputs": [],
   "source": [
    "# Importing the required libraries for plots.\n",
    "import matplotlib.pyplot as plt\n",
    "import seaborn as sns\n",
    "%matplotlib inline"
   ]
  },
  {
   "cell_type": "code",
   "execution_count": 56,
   "metadata": {},
   "outputs": [
    {
     "name": "stderr",
     "output_type": "stream",
     "text": [
      "c:\\Users\\Lenovo\\AppData\\Local\\Programs\\Python\\Python310\\lib\\site-packages\\seaborn\\distributions.py:2619: FutureWarning:\n",
      "\n",
      "`distplot` is a deprecated function and will be removed in a future version. Please adapt your code to use either `displot` (a figure-level function with similar flexibility) or `histplot` (an axes-level function for histograms).\n",
      "\n"
     ]
    },
    {
     "data": {
      "text/plain": [
       "Text(0.5, 0, 'Errors')"
      ]
     },
     "execution_count": 56,
     "metadata": {},
     "output_type": "execute_result"
    },
    {
     "data": {
      "image/png": "[encoded data removed]",
      "text/plain": [
       "<Figure size 432x288 with 1 Axes>"
      ]
     },
     "metadata": {
      "needs_background": "light"
     },
     "output_type": "display_data"
    }
   ],
   "source": [
    "# Plot the histogram of the error terms\n",
    "fig = plt.figure()\n",
    "sns.distplot((y_train - y_train_price), bins = 20)\n",
    "fig.suptitle('Error Terms', fontsize = 20)                  # Plot heading \n",
    "plt.xlabel('Errors', fontsize = 18)    "
   ]
  },
  {
   "cell_type": "markdown",
   "metadata": {},
   "source": [
    "Making Predictions\n",
    "Applying the scaling on the test sets"
   ]
  },
  {
   "cell_type": "markdown",
   "metadata": {},
   "source": [
    "Apply scaler() to all the columns except the 'yes-no' and 'dummy' variables\n"
   ]
  },
  {
   "cell_type": "code",
   "execution_count": 57,
   "metadata": {},
   "outputs": [
    {
     "data": {
      "text/html": [
       "<div>\n",
       "<style scoped>\n",
       "    .dataframe tbody tr th:only-of-type {\n",
       "        vertical-align: middle;\n",
       "    }\n",
       "\n",
       "    .dataframe tbody tr th {\n",
       "        vertical-align: top;\n",
       "    }\n",
       "\n",
       "    .dataframe thead th {\n",
       "        text-align: right;\n",
       "    }\n",
       "</style>\n",
       "<table border=\"1\" class=\"dataframe\">\n",
       "  <thead>\n",
       "    <tr style=\"text-align: right;\">\n",
       "      <th></th>\n",
       "      <th>Id</th>\n",
       "      <th>MSSubClass</th>\n",
       "      <th>LotFrontage</th>\n",
       "      <th>LotArea</th>\n",
       "      <th>OverallQual</th>\n",
       "      <th>OverallCond</th>\n",
       "      <th>YearRemodAdd</th>\n",
       "      <th>MasVnrArea</th>\n",
       "      <th>BsmtFinSF1</th>\n",
       "      <th>BsmtFinSF2</th>\n",
       "      <th>...</th>\n",
       "      <th>SaleType_ConLI</th>\n",
       "      <th>SaleType_ConLw</th>\n",
       "      <th>SaleType_New</th>\n",
       "      <th>SaleType_Oth</th>\n",
       "      <th>SaleType_WD</th>\n",
       "      <th>SaleCondition_AdjLand</th>\n",
       "      <th>SaleCondition_Alloca</th>\n",
       "      <th>SaleCondition_Family</th>\n",
       "      <th>SaleCondition_Normal</th>\n",
       "      <th>SaleCondition_Partial</th>\n",
       "    </tr>\n",
       "  </thead>\n",
       "  <tbody>\n",
       "    <tr>\n",
       "      <th>1436</th>\n",
       "      <td>0.985547</td>\n",
       "      <td>0.000000</td>\n",
       "      <td>0.133562</td>\n",
       "      <td>0.048827</td>\n",
       "      <td>0.333333</td>\n",
       "      <td>0.571429</td>\n",
       "      <td>0.350000</td>\n",
       "      <td>0.00000</td>\n",
       "      <td>0.281536</td>\n",
       "      <td>0.0</td>\n",
       "      <td>...</td>\n",
       "      <td>0</td>\n",
       "      <td>0</td>\n",
       "      <td>0</td>\n",
       "      <td>0</td>\n",
       "      <td>1</td>\n",
       "      <td>0</td>\n",
       "      <td>0</td>\n",
       "      <td>0</td>\n",
       "      <td>1</td>\n",
       "      <td>0</td>\n",
       "    </tr>\n",
       "    <tr>\n",
       "      <th>57</th>\n",
       "      <td>0.036476</td>\n",
       "      <td>0.235294</td>\n",
       "      <td>0.232877</td>\n",
       "      <td>0.065599</td>\n",
       "      <td>0.666667</td>\n",
       "      <td>0.428571</td>\n",
       "      <td>0.900000</td>\n",
       "      <td>0.00000</td>\n",
       "      <td>0.000000</td>\n",
       "      <td>0.0</td>\n",
       "      <td>...</td>\n",
       "      <td>0</td>\n",
       "      <td>0</td>\n",
       "      <td>0</td>\n",
       "      <td>0</td>\n",
       "      <td>1</td>\n",
       "      <td>0</td>\n",
       "      <td>0</td>\n",
       "      <td>0</td>\n",
       "      <td>1</td>\n",
       "      <td>0</td>\n",
       "    </tr>\n",
       "    <tr>\n",
       "      <th>780</th>\n",
       "      <td>0.534067</td>\n",
       "      <td>0.000000</td>\n",
       "      <td>0.143836</td>\n",
       "      <td>0.041693</td>\n",
       "      <td>0.666667</td>\n",
       "      <td>0.428571</td>\n",
       "      <td>0.766667</td>\n",
       "      <td>0.04126</td>\n",
       "      <td>0.000000</td>\n",
       "      <td>0.0</td>\n",
       "      <td>...</td>\n",
       "      <td>0</td>\n",
       "      <td>0</td>\n",
       "      <td>0</td>\n",
       "      <td>0</td>\n",
       "      <td>1</td>\n",
       "      <td>0</td>\n",
       "      <td>0</td>\n",
       "      <td>0</td>\n",
       "      <td>1</td>\n",
       "      <td>0</td>\n",
       "    </tr>\n",
       "    <tr>\n",
       "      <th>382</th>\n",
       "      <td>0.260151</td>\n",
       "      <td>0.235294</td>\n",
       "      <td>0.198630</td>\n",
       "      <td>0.050380</td>\n",
       "      <td>0.666667</td>\n",
       "      <td>0.428571</td>\n",
       "      <td>0.933333</td>\n",
       "      <td>0.00000</td>\n",
       "      <td>0.000000</td>\n",
       "      <td>0.0</td>\n",
       "      <td>...</td>\n",
       "      <td>0</td>\n",
       "      <td>0</td>\n",
       "      <td>0</td>\n",
       "      <td>0</td>\n",
       "      <td>1</td>\n",
       "      <td>0</td>\n",
       "      <td>0</td>\n",
       "      <td>0</td>\n",
       "      <td>1</td>\n",
       "      <td>0</td>\n",
       "    </tr>\n",
       "    <tr>\n",
       "      <th>1170</th>\n",
       "      <td>0.802478</td>\n",
       "      <td>0.352941</td>\n",
       "      <td>0.188356</td>\n",
       "      <td>0.054407</td>\n",
       "      <td>0.555556</td>\n",
       "      <td>0.571429</td>\n",
       "      <td>0.450000</td>\n",
       "      <td>0.00000</td>\n",
       "      <td>0.238574</td>\n",
       "      <td>0.0</td>\n",
       "      <td>...</td>\n",
       "      <td>0</td>\n",
       "      <td>0</td>\n",
       "      <td>0</td>\n",
       "      <td>0</td>\n",
       "      <td>1</td>\n",
       "      <td>0</td>\n",
       "      <td>0</td>\n",
       "      <td>0</td>\n",
       "      <td>1</td>\n",
       "      <td>0</td>\n",
       "    </tr>\n",
       "  </tbody>\n",
       "</table>\n",
       "<p>5 rows × 217 columns</p>\n",
       "</div>"
      ],
      "text/plain": [
       "            Id  MSSubClass  LotFrontage   LotArea  OverallQual  OverallCond  \\\n",
       "1436  0.985547    0.000000     0.133562  0.048827     0.333333     0.571429   \n",
       "57    0.036476    0.235294     0.232877  0.065599     0.666667     0.428571   \n",
       "780   0.534067    0.000000     0.143836  0.041693     0.666667     0.428571   \n",
       "382   0.260151    0.235294     0.198630  0.050380     0.666667     0.428571   \n",
       "1170  0.802478    0.352941     0.188356  0.054407     0.555556     0.571429   \n",
       "\n",
       "      YearRemodAdd  MasVnrArea  BsmtFinSF1  BsmtFinSF2  ...  SaleType_ConLI  \\\n",
       "1436      0.350000     0.00000    0.281536         0.0  ...               0   \n",
       "57        0.900000     0.00000    0.000000         0.0  ...               0   \n",
       "780       0.766667     0.04126    0.000000         0.0  ...               0   \n",
       "382       0.933333     0.00000    0.000000         0.0  ...               0   \n",
       "1170      0.450000     0.00000    0.238574         0.0  ...               0   \n",
       "\n",
       "      SaleType_ConLw  SaleType_New  SaleType_Oth  SaleType_WD  \\\n",
       "1436               0             0             0            1   \n",
       "57                 0             0             0            1   \n",
       "780                0             0             0            1   \n",
       "382                0             0             0            1   \n",
       "1170               0             0             0            1   \n",
       "\n",
       "      SaleCondition_AdjLand  SaleCondition_Alloca  SaleCondition_Family  \\\n",
       "1436                      0                     0                     0   \n",
       "57                        0                     0                     0   \n",
       "780                       0                     0                     0   \n",
       "382                       0                     0                     0   \n",
       "1170                      0                     0                     0   \n",
       "\n",
       "      SaleCondition_Normal  SaleCondition_Partial  \n",
       "1436                     1                      0  \n",
       "57                       1                      0  \n",
       "780                      1                      0  \n",
       "382                      1                      0  \n",
       "1170                     1                      0  \n",
       "\n",
       "[5 rows x 217 columns]"
      ]
     },
     "execution_count": 57,
     "metadata": {},
     "output_type": "execute_result"
    }
   ],
   "source": [
    "df_test[numerical_columns] = scaler.fit_transform(df_test[numerical_columns])\n",
    "\n",
    "df_test.head()"
   ]
  },
  {
   "cell_type": "code",
   "execution_count": 58,
   "metadata": {},
   "outputs": [],
   "source": [
    "# Dividing into X_test and y_test\n",
    "y_test = df_test.pop(\"SalePrice\")\n",
    "X_test = df_test"
   ]
  },
  {
   "cell_type": "code",
   "execution_count": 60,
   "metadata": {},
   "outputs": [],
   "source": [
    "# Now let's use our model to make predictions.\n",
    "\n",
    "# Creating X_test_new dataframe by dropping variables from X_test\n",
    "X_test_new = X_test[X.columns]\n",
    "\n",
    "# Adding a constant variable \n",
    "X_test_new = sm.add_constant(X_test_new)"
   ]
  },
  {
   "cell_type": "code",
   "execution_count": 61,
   "metadata": {},
   "outputs": [],
   "source": [
    "# Making predictions\n",
    "y_pred = lm.predict(X_test_new)"
   ]
  },
  {
   "cell_type": "markdown",
   "metadata": {},
   "source": [
    "Model Evaluation"
   ]
  },
  {
   "cell_type": "code",
   "execution_count": 62,
   "metadata": {},
   "outputs": [
    {
     "data": {
      "text/plain": [
       "Text(0, 0.5, 'y_pred')"
      ]
     },
     "execution_count": 62,
     "metadata": {},
     "output_type": "execute_result"
    },
    {
     "data": {
      "image/png": "[encoded data removed]",
      "text/plain": [
       "<Figure size 432x288 with 1 Axes>"
      ]
     },
     "metadata": {
      "needs_background": "light"
     },
     "output_type": "display_data"
    }
   ],
   "source": [
    "# Plotting y_test and y_pred to understand the spread.\n",
    "fig = plt.figure()\n",
    "plt.scatter(y_test,y_pred)\n",
    "fig.suptitle('y_test vs y_pred', fontsize=20)              # Plot heading \n",
    "plt.xlabel('y_test', fontsize=18)                          # X-label\n",
    "plt.ylabel('y_pred', fontsize=16)  "
   ]
  },
  {
   "cell_type": "code",
   "execution_count": 65,
   "metadata": {},
   "outputs": [],
   "source": [
    "X_test_new = X_test_new.drop(['const'], axis=1)"
   ]
  },
  {
   "cell_type": "code",
   "execution_count": 71,
   "metadata": {},
   "outputs": [
    {
     "name": "stdout",
     "output_type": "stream",
     "text": [
      "Best Hyperparameters: {'alpha': 0.5, 'fit_intercept': True, 'solver': 'auto'}\n"
     ]
    }
   ],
   "source": [
    "from sklearn.model_selection import GridSearchCV\n",
    "from sklearn.linear_model import Ridge\n",
    "from sklearn.model_selection import train_test_split\n",
    "\n",
    "\n",
    "ridge = Ridge()\n",
    "\n",
    "# Create a parameter grid to search over\n",
    "param_grid = {\n",
    "    'alpha': [0.01, 0.1, 0.5, 1.0, 2.0, 5.0, 10.0, 20.0, 50.0, 100.0],  # Regularization strength\n",
    "    'fit_intercept': [True, False],        # Whether to calculate the intercept\n",
    "    'solver': ['auto', 'svd', 'cholesky', 'lsqr', 'sparse_cg', 'sag', 'saga']  # Solver for optimization\n",
    "}\n",
    "\n",
    "# Create the GridSearchCV object\n",
    "grid_search = GridSearchCV(ridge, param_grid, cv=5)  # You can adjust the cross-validation (cv) parameter\n",
    "\n",
    "# Fit the GridSearchCV object to the training data\n",
    "grid_search.fit(X, y_train)\n",
    "\n",
    "# Get the best hyperparameters from the grid search\n",
    "best_params = grid_search.best_params_\n",
    "\n",
    "# Print the best hyperparameters\n",
    "print(\"Best Hyperparameters:\", best_params)\n",
    "\n",
    "# Use the best hyperparameters to create the final Ridge regression model\n",
    "final_ridge_model = Ridge(**best_params)\n",
    "\n",
    "# Fit the final model to the entire training data\n",
    "final_ridge_model.fit(X, y_train)\n",
    "\n",
    "y_test_preb = final_ridge_model.predict(X_test_new)\n"
   ]
  },
  {
   "cell_type": "code",
   "execution_count": 72,
   "metadata": {},
   "outputs": [
    {
     "data": {
      "text/plain": [
       "Text(0, 0.5, 'y_pred')"
      ]
     },
     "execution_count": 72,
     "metadata": {},
     "output_type": "execute_result"
    },
    {
     "data": {
      "image/png": "[encoded data removed]",
      "text/plain": [
       "<Figure size 432x288 with 1 Axes>"
      ]
     },
     "metadata": {
      "needs_background": "light"
     },
     "output_type": "display_data"
    }
   ],
   "source": [
    "# Plotting y_test and y_pred to understand the spread.\n",
    "fig = plt.figure()\n",
    "plt.scatter(y_test,y_test_preb)\n",
    "fig.suptitle('y_test vs y_pred', fontsize=20)              # Plot heading \n",
    "plt.xlabel('y_test', fontsize=18)                          # X-label\n",
    "plt.ylabel('y_pred', fontsize=16)  "
   ]
  }
 ],
 "metadata": {
  "kernelspec": {
   "display_name": "Python 3 (ipykernel)",
   "language": "python",
   "name": "python3"
  },
  "language_info": {
   "codemirror_mode": {
    "name": "ipython",
    "version": 3
   },
   "file_extension": ".py",
   "mimetype": "text/x-python",
   "name": "python",
   "nbconvert_exporter": "python",
   "pygments_lexer": "ipython3",
   "version": "3.10.0"
  }
 },
 "nbformat": 4,
 "nbformat_minor": 2
}
